{
 "cells": [
  {
   "cell_type": "code",
   "execution_count": 1,
   "metadata": {},
   "outputs": [],
   "source": [
    "%matplotlib inline\n",
    "\n",
    "import os\n",
    "import textwrap\n",
    "import math\n",
    "\n",
    "import datetime as dt\n",
    "import pandas as pd\n",
    "\n",
    "import matplotlib        as mpl\n",
    "import matplotlib.pyplot as plt\n",
    "\n",
    "import numpy             as np\n",
    "import tables            as tb\n",
    "import seaborn as sns\n",
    "\n",
    "import invisible_cities.core.core_functions as coref\n",
    "import invisible_cities.core.fit_functions  as fitf\n",
    "\n",
    "from   scipy.optimize                          import curve_fit\n",
    "from   scipy                                   import stats\n",
    "\n",
    "# Formatting options\n",
    "mpl.rcParams.update({'font.size': 18})\n",
    "mpl.rcParams['image.cmap'] = 'Greys'\n",
    "mpl.rcParams['patch.force_edgecolor'] = False\n",
    "mpl.rcParams['patch.facecolor'] = 'gray'\n",
    "hargs = {'histtype': 'stepfilled', 'edgecolor': 'black', 'facecolor': 'gray'}\n",
    "\n",
    "# Directory to which figures will be stored\n",
    "save_dir = \"fig_10bar_7746\"\n",
    "ftype = \"pdf\"\n",
    "if(not os.path.isdir(save_dir)):\n",
    "    print(\"Creating directory\",save_dir)\n",
    "    os.mkdir(save_dir)"
   ]
  },
  {
   "cell_type": "code",
   "execution_count": null,
   "metadata": {},
   "outputs": [],
   "source": []
  },
  {
   "cell_type": "code",
   "execution_count": 2,
   "metadata": {},
   "outputs": [],
   "source": [
    "evtfnames   = [[\"ntuple_combined_7746.h5\"], [\"ntuple_combined_MC.h5\"]]\n"
   ]
  },
  {
   "cell_type": "code",
   "execution_count": 3,
   "metadata": {},
   "outputs": [
    {
     "name": "stdout",
     "output_type": "stream",
     "text": [
      "Adding file ntuple_combined_7746.h5 ...\n",
      "596443 total events (real data)\n",
      "Adding file ntuple_combined_MC.h5 ...\n",
      "918770 total events (Montecarlo)\n"
     ]
    }
   ],
   "source": [
    "\n",
    "cdf = None\n",
    "\n",
    "for j in (0,1):\n",
    "    \n",
    "    for ii,fname in enumerate(evtfnames[j]):\n",
    "\n",
    "        print(\"Adding file {} ...\".format(fname))\n",
    "\n",
    "        ftbl = tb.open_file(fname, 'r')\n",
    "    \n",
    "        fsummary = ftbl.root.Summary.Events\n",
    "        fdst = ftbl.root.DST.Events\n",
    "        ftracks = ftbl.root.Tracking.Tracks\n",
    "\n",
    "        # Read the tables into DataFrames.\n",
    "        to_df = pd.DataFrame.from_records\n",
    "        df_summary = to_df(fsummary.read())\n",
    "        df_tracks = to_df(ftracks.read())\n",
    "        df_dst = to_df(fdst.read())\n",
    "    \n",
    "        # Drop duplicates in the KDST, selecting the S1 and S2 with highest energy.\n",
    "        df_dst = df_dst.sort_values(['event','S1e','S2e'])[['event','S2e','S1e']].drop_duplicates('event',keep='last')\n",
    "    \n",
    "        # Drop duplicates in the TDST, selecting the longest tracks.\n",
    "        df_tracks = df_tracks.sort_values(['event','length']).drop_duplicates('event',keep='last')\n",
    "    \n",
    "        # Merge into a single dataframe.\n",
    "        df_merge = pd.merge(df_summary, df_dst, on = 'event', how='left')\n",
    "        df_merge = pd.merge(df_merge, df_tracks, on = 'event', how='left')\n",
    "    \n",
    "        # Concatenate with previous runs.\n",
    "        if(cdf is None):\n",
    "            cdf = df_merge\n",
    "        else:\n",
    "            cdf = cdf.append(df_merge)\n",
    "        \n",
    "        ftbl.close()\n",
    "        \n",
    "        \n",
    "    if j==0: #El primer archivo es de datos reales (D)\n",
    "    \n",
    "        A_evtnum_D    = cdf['event'].values\n",
    "        A_numtrks_D   = cdf['numb_of_tracks'].values\n",
    "        A_Ec_D        = cdf['energy'].values\n",
    "        #A_nS1_D       = cdf['nS1'].values\n",
    "        #A_nS2_D       = cdf['nS2'].values\n",
    "        A_maxtrklen_D = cdf['length'].values\n",
    "        A_ntrks_D     = cdf['evt_ntrks'].values\n",
    "        A_nhits_D     = cdf['evt_nhits'].values\n",
    "        A_Ec_evt_D    = cdf['evt_energy'].values\n",
    "        A_xavg_D      = cdf['evt_x_avg'].values\n",
    "        A_yavg_D      = cdf['evt_y_avg'].values\n",
    "        A_zavg_D      = cdf['evt_z_avg'].values\n",
    "        A_ravg_D      = cdf['evt_r_avg'].values\n",
    "        A_xmin_D      = cdf['evt_x_min'].values\n",
    "        A_ymin_D      = cdf['evt_y_min'].values\n",
    "        A_zmin_D      = cdf['evt_z_min'].values\n",
    "        A_xmax_D      = cdf['evt_x_max'].values\n",
    "        A_ymax_D      = cdf['evt_y_max'].values\n",
    "        A_zmax_D      = cdf['evt_z_max'].values\n",
    "        A_rmin_D      = cdf['evt_r_min'].values\n",
    "        A_rmax_D      = cdf['evt_r_max'].values\n",
    "\n",
    "\n",
    "        print(\"{} total events (real data)\".format(len(A_evtnum_D)))\n",
    "            \n",
    "            \n",
    "            \n",
    "    \n",
    "    if j==1: #El siguiente archivo es de MC\n",
    "            \n",
    "        A_evtnum_MC    = cdf['event'].values\n",
    "        A_numtrks_MC   = cdf['numb_of_tracks'].values\n",
    "        A_Ec_MC        = cdf['energy'].values\n",
    "        #A_nS1_MC       = cdf['nS1'].values\n",
    "        #A_nS2_MC       = cdf['nS2'].values\n",
    "        A_maxtrklen_MC = cdf['length'].values\n",
    "        A_ntrks_MC     = cdf['evt_ntrks'].values\n",
    "        A_nhits_MC     = cdf['evt_nhits'].values\n",
    "        A_Ec_evt_MC    = cdf['evt_energy'].values\n",
    "        A_xavg_MC      = cdf['evt_x_avg'].values\n",
    "        A_yavg_MC      = cdf['evt_y_avg'].values\n",
    "        A_zavg_MC      = cdf['evt_z_avg'].values\n",
    "        A_ravg_MC      = cdf['evt_r_avg'].values\n",
    "        A_xmin_MC      = cdf['evt_x_min'].values\n",
    "        A_ymin_MC      = cdf['evt_y_min'].values\n",
    "        A_zmin_MC      = cdf['evt_z_min'].values\n",
    "        A_xmax_MC      = cdf['evt_x_max'].values\n",
    "        A_ymax_MC      = cdf['evt_y_max'].values\n",
    "        A_zmax_MC      = cdf['evt_z_max'].values\n",
    "        A_rmin_MC      = cdf['evt_r_min'].values\n",
    "        A_rmax_MC      = cdf['evt_r_max'].values\n",
    "\n",
    "\n",
    "        print(\"{} total events (Montecarlo)\".format(len(A_evtnum_MC)))\n",
    "            \n",
    "      "
   ]
  },
  {
   "cell_type": "code",
   "execution_count": null,
   "metadata": {},
   "outputs": [],
   "source": []
  },
  {
   "cell_type": "code",
   "execution_count": null,
   "metadata": {},
   "outputs": [],
   "source": [
    "for j in (0,1):\n",
    "    \n",
    "    for ii,fname in enumerate(evtfnames[j]):\n",
    "        \n",
    "        print(\"Adding file {} ...\".format(fname))\n",
    "\n",
    "        data = tb.open_file(evtfnames[j][0],'r')\n",
    "    \n",
    "        \n",
    "        fsummary=data.root.Summary.Events\n",
    "        fdst=data.root.DST.Events\n",
    "        ftracks=data.root.Tracking.Tracks\n",
    "\n",
    "        to_df = pd.DataFrame.from_records\n",
    "\n",
    "        df_summary = to_df(fsummary.read())\n",
    "        df_dst = to_df(fdst.read())\n",
    "        df_tracks = to_df(ftracks.read())\n",
    "\n",
    "        df_merge= pd.merge(df_summary, df_dst, on = 'event', how='left')\n",
    "        df_merge= pd.merge(df_merge, df_tracks, on = 'event', how='left')\n",
    "        cdf=df_merge\n",
    "    \n",
    "        if j==0:\n",
    "        \n",
    "            B_evtnum_D    = cdf['event'].values\n",
    "            B_numtrks_D  = cdf['numb_of_tracks'].values\n",
    "            B_Ec_D       = cdf['energy'].values\n",
    "            B_Ec_evt_D   = cdf['evt_energy'].values\n",
    "            B_nS1_D      = cdf['nS1'].values\n",
    "            B_nS2_D      = cdf['nS2'].values\n",
    "            B_ravg_D     = cdf['r_ave'].values\n",
    "            B_xavg_D     = cdf['x_ave'].values\n",
    "            B_yavg_D     = cdf['y_ave'].values\n",
    "            B_zavg_D     = cdf['z_ave'].values\n",
    "            B_xmax_D     = cdf['x_max'].values\n",
    "            B_ymax_D     = cdf['y_max'].values\n",
    "            B_zmax_D     = cdf['z_max'].values\n",
    "            B_rmax_D     = cdf['r_max'].values\n",
    "            B_rmax_D    = cdf['r_max'].values\n",
    "            B_xmin_D    = cdf['x_min'].values\n",
    "            B_ymin_D    = cdf['y_min'].values\n",
    "            B_zmin_D    = cdf['z_min'].values\n",
    "            B_trklen_D   = cdf['length'].values\n",
    "        \n",
    "            print(\"{} total events (Real data)\".format(len(B_evtnum_D)))\n",
    "\n",
    "        if j==1:\n",
    "        \n",
    "            B_evtnum_MC    = cdf['event'].values\n",
    "            B_numtrks_MC = cdf['numb_of_tracks'].values\n",
    "            B_Ec_MC      = cdf['energy'].values\n",
    "            B_Ec_evt_MC  = cdf['evt_energy'].values\n",
    "            B_nS1_MC     = cdf['nS1'].values\n",
    "            B_nS2_MC     = cdf['nS2'].values\n",
    "            B_ravg_MC    = cdf['r_ave'].values\n",
    "            B_xavg_MC    = cdf['x_ave'].values\n",
    "            B_yavg_MC    = cdf['y_ave'].values\n",
    "            B_zavg_MC    = cdf['z_ave'].values\n",
    "            B_xmax_MC    = cdf['x_max'].values\n",
    "            B_ymax_MC    = cdf['y_max'].values\n",
    "            B_zmax_MC    = cdf['z_max'].values\n",
    "            B_rmax_MC    = cdf['r_max'].values\n",
    "            B_xmin_MC    = cdf['x_min'].values\n",
    "            B_ymin_MC    = cdf['y_min'].values\n",
    "            B_zmin_MC    = cdf['z_min'].values\n",
    "            B_trklen_MC  = cdf['length'].values\n",
    "        \n",
    "            print(\"{} total events (Montecarlo)\".format(len(B_evtnum_MC)))\n",
    "    "
   ]
  },
  {
   "cell_type": "code",
   "execution_count": null,
   "metadata": {},
   "outputs": [],
   "source": []
  },
  {
   "cell_type": "code",
   "execution_count": 26,
   "metadata": {},
   "outputs": [
    {
     "data": {
      "image/png": "[encoded data removed]",
      "text/plain": [
       "<Figure size 432x288 with 1 Axes>"
      ]
     },
     "metadata": {
      "needs_background": "light"
     },
     "output_type": "display_data"
    }
   ],
   "source": [
    "x=A_Ec_D/A_Ec_evt_D\n",
    "\n",
    "plt.hist(x,100)\n",
    "plt.yscale('log')"
   ]
  },
  {
   "cell_type": "code",
   "execution_count": 24,
   "metadata": {},
   "outputs": [
    {
     "data": {
      "image/png": "[encoded data removed]",
      "text/plain": [
       "<Figure size 432x288 with 1 Axes>"
      ]
     },
     "metadata": {
      "needs_background": "light"
     },
     "output_type": "display_data"
    }
   ],
   "source": [
    "x=A_Ec_MC/A_Ec_evt_MC\n",
    "\n",
    "plt.hist(x,100)\n",
    "plt.yscale('log')"
   ]
  },
  {
   "cell_type": "code",
   "execution_count": 12,
   "metadata": {},
   "outputs": [
    {
     "name": "stderr",
     "output_type": "stream",
     "text": [
      "/home/carlos/anaconda3/lib/python3.7/site-packages/ipykernel_launcher.py:4: RuntimeWarning: invalid value encountered in greater\n",
      "  after removing the cwd from sys.path.\n",
      "/home/carlos/anaconda3/lib/python3.7/site-packages/ipykernel_launcher.py:4: RuntimeWarning: invalid value encountered in less\n",
      "  after removing the cwd from sys.path.\n",
      "/home/carlos/anaconda3/lib/python3.7/site-packages/ipykernel_launcher.py:7: RuntimeWarning: invalid value encountered in greater\n",
      "  import sys\n",
      "/home/carlos/anaconda3/lib/python3.7/site-packages/ipykernel_launcher.py:7: RuntimeWarning: invalid value encountered in less\n",
      "  import sys\n"
     ]
    }
   ],
   "source": [
    "cwide_zmin = 50; cwide_zmax = 500\n",
    "cwide_rmax = 180\n",
    "\n",
    "C_basic_D       = (A_Ec_D > 0) & (A_zavg_D < 580)\n",
    "C_wide_D        = C_basic_D & (A_zmin_D > cwide_zmin) & (A_zmax_D < cwide_zmax) & (A_rmax_D < cwide_rmax)\n",
    "\n",
    "C_basic_MC       = (A_Ec_MC > 0) & (A_zavg_MC < 580)\n",
    "C_wide_MC        = C_basic_MC & (A_zmin_MC > cwide_zmin) & (A_zmax_MC < cwide_zmax) & (A_rmax_MC < cwide_rmax)\n",
    "\n"
   ]
  },
  {
   "cell_type": "code",
   "execution_count": 20,
   "metadata": {},
   "outputs": [
    {
     "name": "stderr",
     "output_type": "stream",
     "text": [
      "/home/carlos/anaconda3/lib/python3.7/site-packages/ipykernel_launcher.py:4: RuntimeWarning: invalid value encountered in greater\n",
      "  after removing the cwd from sys.path.\n",
      "/home/carlos/anaconda3/lib/python3.7/site-packages/ipykernel_launcher.py:4: RuntimeWarning: invalid value encountered in less\n",
      "  after removing the cwd from sys.path.\n",
      "/home/carlos/anaconda3/lib/python3.7/site-packages/ipykernel_launcher.py:5: RuntimeWarning: invalid value encountered in greater\n",
      "  \"\"\"\n",
      "/home/carlos/anaconda3/lib/python3.7/site-packages/ipykernel_launcher.py:5: RuntimeWarning: invalid value encountered in less\n",
      "  \"\"\"\n"
     ]
    }
   ],
   "source": [
    "cwide_zmin = 50; cwide_zmax = 500\n",
    "cwide_rmax = 180\n",
    "\n",
    "C_basic_D       = (B_Ec_D > 0) & (B_zavg_D < 580)\n",
    "C_wide_D        = C_basic_D & (B_zmin_D > cwide_zmin) & (B_zmax_D < cwide_zmax) & (B_rmax_D < cwide_rmax) & (B_numtrks_D > 1)\n",
    "\n",
    "C_basic_MC       = (B_Ec_MC > 0) & (B_zavg_MC < 580)\n",
    "C_wide_MC        = C_basic_MC & (B_zmin_MC > cwide_zmin) & (B_zmax_MC < cwide_zmax) & (B_rmax_MC < cwide_rmax) & (B_numtrks_MC > 1)\n",
    "\n"
   ]
  },
  {
   "cell_type": "code",
   "execution_count": 27,
   "metadata": {},
   "outputs": [
    {
     "data": {
      "text/plain": [
       "(3331470, 3331470)"
      ]
     },
     "execution_count": 27,
     "metadata": {},
     "output_type": "execute_result"
    }
   ],
   "source": [
    "len(B_Ec_evt_MC), len(B_Ec_MC)"
   ]
  },
  {
   "cell_type": "code",
   "execution_count": 25,
   "metadata": {},
   "outputs": [
    {
     "data": {
      "text/plain": [
       "array([1.61741535, 1.61741535, 1.61741535, 1.61741535, 1.54612847,\n",
       "       1.54612847, 1.54612847, 1.54612847, 1.54612847, 1.54612847,\n",
       "       1.509868  , 1.509868  , 1.509868  , 1.509868  , 1.61299785,\n",
       "       1.61299785, 1.61299785, 1.61299785, 1.61299785, 1.61299785,\n",
       "       1.59004096, 1.59004096, 1.59004096, 1.59004096, 1.59004096,\n",
       "       1.59004096, 1.59004096, 1.59004096, 1.59004096, 1.59004096,\n",
       "       1.59004096, 1.59004096, 1.59004096, 1.59004096, 1.59004096,\n",
       "       1.59004096, 1.59004096, 1.59004096, 1.59004096, 1.59004096,\n",
       "       1.59004096, 1.59004096, 1.59004096, 1.59004096,        nan,\n",
       "              nan,        nan,        nan,        nan,        nan,\n",
       "              nan,        nan,        nan,        nan,        nan,\n",
       "              nan,        nan,        nan,        nan,        nan,\n",
       "              nan,        nan, 1.59539509, 1.59539509, 1.59539509,\n",
       "       1.59539509, 1.59539509, 1.59539509, 1.59539509, 1.59539509,\n",
       "       1.59539509, 1.59539509, 1.59539509, 1.59539509, 1.59539509,\n",
       "       1.59539509, 1.59539509, 1.69885771, 1.69885771, 1.69885771,\n",
       "       1.69885771, 1.69885771, 1.69885771, 1.69885771, 1.69885771,\n",
       "       1.69885771, 1.69885771, 1.69885771, 1.69885771, 1.69885771,\n",
       "       1.69885771, 1.69885771, 1.69885771, 1.69885771, 1.69885771,\n",
       "       1.69885771, 1.69885771, 1.69885771, 1.69885771, 1.69885771])"
      ]
     },
     "execution_count": 25,
     "metadata": {},
     "output_type": "execute_result"
    }
   ],
   "source": [
    "B_Ec_evt_MC[C_wide_MC][:100]"
   ]
  },
  {
   "cell_type": "code",
   "execution_count": null,
   "metadata": {},
   "outputs": [],
   "source": []
  },
  {
   "cell_type": "code",
   "execution_count": 24,
   "metadata": {},
   "outputs": [
    {
     "data": {
      "text/plain": [
       "array([0.16735032, 0.16735032, 0.16735032, 0.16735032, 1.44827002,\n",
       "       0.00582974, 1.44827002, 0.00582974, 1.44827002, 0.00582974,\n",
       "       1.47470594, 1.47470594, 1.47470594, 1.47470594, 0.83360712,\n",
       "       0.81833468, 0.83360712, 0.81833468, 0.83360712, 0.81833468,\n",
       "       0.81869047, 0.48420341, 0.15243266, 0.13471442, 1.4793315 ,\n",
       "       0.02955961, 0.81869047, 0.48420341, 0.15243266, 0.13471442,\n",
       "       1.4793315 , 0.02955961, 0.81869047, 0.48420341, 0.15243266,\n",
       "       0.13471442, 1.4793315 , 0.02955961, 0.81869047, 0.48420341,\n",
       "       0.15243266, 0.13471442, 1.4793315 , 0.02955961, 0.25431619,\n",
       "       0.15996919, 0.11000859, 0.25431619, 0.15996919, 0.11000859,\n",
       "       0.25431619, 0.15996919, 0.11000859, 0.25431619, 0.15996919,\n",
       "       0.11000859, 0.25431619, 0.15996919, 0.11000859, 0.25431619,\n",
       "       0.15996919, 0.11000859, 1.37496416, 0.23715954, 0.17858739,\n",
       "       1.37496416, 0.23715954, 0.17858739, 1.37496416, 0.23715954,\n",
       "       0.17858739, 1.37496416, 0.23715954, 0.17858739, 1.37496416,\n",
       "       0.23715954, 0.17858739, 1.5290004 , 0.13941789, 0.03043943,\n",
       "       0.50065056, 0.03020757, 1.5290004 , 0.13941789, 0.03043943,\n",
       "       0.50065056, 0.03020757, 1.5290004 , 0.13941789, 0.03043943,\n",
       "       0.50065056, 0.03020757, 1.5290004 , 0.13941789, 0.03043943,\n",
       "       0.50065056, 0.03020757, 1.5290004 , 0.13941789, 0.03043943])"
      ]
     },
     "execution_count": 24,
     "metadata": {},
     "output_type": "execute_result"
    }
   ],
   "source": [
    "B_Ec_MC[C_wide_MC][:100]"
   ]
  },
  {
   "cell_type": "code",
   "execution_count": 14,
   "metadata": {},
   "outputs": [
    {
     "data": {
      "text/plain": [
       "array([0.33559773, 0.23175266, 0.24773179, ..., 1.60034771, 0.715046  ,\n",
       "       1.79268217])"
      ]
     },
     "execution_count": 14,
     "metadata": {},
     "output_type": "execute_result"
    }
   ],
   "source": [
    "A_Ec_MC[C_wide_MC]"
   ]
  },
  {
   "cell_type": "code",
   "execution_count": 11,
   "metadata": {},
   "outputs": [
    {
     "data": {
      "text/html": [
       "<div>\n",
       "<style scoped>\n",
       "    .dataframe tbody tr th:only-of-type {\n",
       "        vertical-align: middle;\n",
       "    }\n",
       "\n",
       "    .dataframe tbody tr th {\n",
       "        vertical-align: top;\n",
       "    }\n",
       "\n",
       "    .dataframe thead th {\n",
       "        text-align: right;\n",
       "    }\n",
       "</style>\n",
       "<table border=\"1\" class=\"dataframe\">\n",
       "  <thead>\n",
       "    <tr style=\"text-align: right;\">\n",
       "      <th></th>\n",
       "      <th>event</th>\n",
       "      <th>evt_energy</th>\n",
       "      <th>energy</th>\n",
       "    </tr>\n",
       "  </thead>\n",
       "  <tbody>\n",
       "    <tr>\n",
       "      <td>0</td>\n",
       "      <td>7</td>\n",
       "      <td>0.335598</td>\n",
       "      <td>0.335598</td>\n",
       "    </tr>\n",
       "    <tr>\n",
       "      <td>1</td>\n",
       "      <td>20</td>\n",
       "      <td>0.449683</td>\n",
       "      <td>0.449683</td>\n",
       "    </tr>\n",
       "    <tr>\n",
       "      <td>2</td>\n",
       "      <td>21</td>\n",
       "      <td>0.231753</td>\n",
       "      <td>0.231753</td>\n",
       "    </tr>\n",
       "    <tr>\n",
       "      <td>3</td>\n",
       "      <td>28</td>\n",
       "      <td>NaN</td>\n",
       "      <td>1.285731</td>\n",
       "    </tr>\n",
       "    <tr>\n",
       "      <td>4</td>\n",
       "      <td>35</td>\n",
       "      <td>0.247732</td>\n",
       "      <td>0.247732</td>\n",
       "    </tr>\n",
       "    <tr>\n",
       "      <td>...</td>\n",
       "      <td>...</td>\n",
       "      <td>...</td>\n",
       "      <td>...</td>\n",
       "    </tr>\n",
       "    <tr>\n",
       "      <td>322322</td>\n",
       "      <td>798000998</td>\n",
       "      <td>NaN</td>\n",
       "      <td>1.506540</td>\n",
       "    </tr>\n",
       "    <tr>\n",
       "      <td>322323</td>\n",
       "      <td>798000999</td>\n",
       "      <td>1.792682</td>\n",
       "      <td>1.792682</td>\n",
       "    </tr>\n",
       "    <tr>\n",
       "      <td>322324</td>\n",
       "      <td>798001000</td>\n",
       "      <td>1.704516</td>\n",
       "      <td>1.596031</td>\n",
       "    </tr>\n",
       "    <tr>\n",
       "      <td>322325</td>\n",
       "      <td>798001001</td>\n",
       "      <td>1.781510</td>\n",
       "      <td>1.589210</td>\n",
       "    </tr>\n",
       "    <tr>\n",
       "      <td>322326</td>\n",
       "      <td>798001002</td>\n",
       "      <td>1.685212</td>\n",
       "      <td>1.612142</td>\n",
       "    </tr>\n",
       "  </tbody>\n",
       "</table>\n",
       "<p>918770 rows × 3 columns</p>\n",
       "</div>"
      ],
      "text/plain": [
       "            event  evt_energy    energy\n",
       "0               7    0.335598  0.335598\n",
       "1              20    0.449683  0.449683\n",
       "2              21    0.231753  0.231753\n",
       "3              28         NaN  1.285731\n",
       "4              35    0.247732  0.247732\n",
       "...           ...         ...       ...\n",
       "322322  798000998         NaN  1.506540\n",
       "322323  798000999    1.792682  1.792682\n",
       "322324  798001000    1.704516  1.596031\n",
       "322325  798001001    1.781510  1.589210\n",
       "322326  798001002    1.685212  1.612142\n",
       "\n",
       "[918770 rows x 3 columns]"
      ]
     },
     "execution_count": 11,
     "metadata": {},
     "output_type": "execute_result"
    }
   ],
   "source": [
    "cdf[['event','evt_energy','energy']]"
   ]
  },
  {
   "cell_type": "code",
   "execution_count": null,
   "metadata": {},
   "outputs": [],
   "source": []
  },
  {
   "cell_type": "code",
   "execution_count": null,
   "metadata": {},
   "outputs": [],
   "source": []
  },
  {
   "cell_type": "code",
   "execution_count": null,
   "metadata": {},
   "outputs": [],
   "source": [
    "\n"
   ]
  },
  {
   "cell_type": "code",
   "execution_count": 20,
   "metadata": {},
   "outputs": [
    {
     "name": "stderr",
     "output_type": "stream",
     "text": [
      "/home/carlos/anaconda3/lib/python3.7/site-packages/ipykernel_launcher.py:5: RuntimeWarning: invalid value encountered in greater\n",
      "  \"\"\"\n",
      "/home/carlos/anaconda3/lib/python3.7/site-packages/ipykernel_launcher.py:5: RuntimeWarning: invalid value encountered in less\n",
      "  \"\"\"\n",
      "/home/carlos/anaconda3/lib/python3.7/site-packages/ipykernel_launcher.py:6: RuntimeWarning: invalid value encountered in greater\n",
      "  \n",
      "/home/carlos/anaconda3/lib/python3.7/site-packages/ipykernel_launcher.py:6: RuntimeWarning: invalid value encountered in less\n",
      "  \n"
     ]
    }
   ],
   "source": [
    "# Pre-defined cuts\n",
    "\n",
    "cwide_zmin = 50; cwide_zmax = 500\n",
    "cwide_rmax = 180\n",
    "\n",
    "C_basic_D       = (A_Ec_D > 0) & (A_zavg_D < 580)\n",
    "C_wide_D        = C_basic_D & (A_zmin_D > cwide_zmin) & (A_zmax_D < cwide_zmax) & (A_rmax_D < cwide_rmax)\n",
    "\n",
    "C_basic_MC       = (A_Ec_MC > 0) & (A_zavg_MC < 580)\n",
    "C_wide_MC        = C_basic_MC & (A_zmin_MC > cwide_zmin) & (A_zmax_MC < cwide_zmax) & (A_rmax_MC < cwide_rmax)"
   ]
  },
  {
   "cell_type": "code",
   "execution_count": 21,
   "metadata": {},
   "outputs": [],
   "source": []
  },
  {
   "cell_type": "code",
   "execution_count": null,
   "metadata": {},
   "outputs": [],
   "source": []
  },
  {
   "cell_type": "code",
   "execution_count": null,
   "metadata": {},
   "outputs": [],
   "source": []
  },
  {
   "cell_type": "code",
   "execution_count": null,
   "metadata": {},
   "outputs": [],
   "source": []
  },
  {
   "cell_type": "code",
   "execution_count": 11,
   "metadata": {},
   "outputs": [
    {
     "data": {
      "text/html": [
       "<div>\n",
       "<style scoped>\n",
       "    .dataframe tbody tr th:only-of-type {\n",
       "        vertical-align: middle;\n",
       "    }\n",
       "\n",
       "    .dataframe tbody tr th {\n",
       "        vertical-align: top;\n",
       "    }\n",
       "\n",
       "    .dataframe thead th {\n",
       "        text-align: right;\n",
       "    }\n",
       "</style>\n",
       "<table border=\"1\" class=\"dataframe\">\n",
       "  <thead>\n",
       "    <tr style=\"text-align: right;\">\n",
       "      <th></th>\n",
       "      <th>event</th>\n",
       "      <th>energy</th>\n",
       "      <th>evt_energy</th>\n",
       "      <th>length</th>\n",
       "    </tr>\n",
       "  </thead>\n",
       "  <tbody>\n",
       "    <tr>\n",
       "      <td>0</td>\n",
       "      <td>7</td>\n",
       "      <td>0.335598</td>\n",
       "      <td>0.335598</td>\n",
       "      <td>20.000000</td>\n",
       "    </tr>\n",
       "    <tr>\n",
       "      <td>1</td>\n",
       "      <td>20</td>\n",
       "      <td>0.449683</td>\n",
       "      <td>0.449683</td>\n",
       "      <td>24.142136</td>\n",
       "    </tr>\n",
       "    <tr>\n",
       "      <td>2</td>\n",
       "      <td>21</td>\n",
       "      <td>0.231753</td>\n",
       "      <td>0.231753</td>\n",
       "      <td>14.142136</td>\n",
       "    </tr>\n",
       "    <tr>\n",
       "      <td>3</td>\n",
       "      <td>28</td>\n",
       "      <td>1.285731</td>\n",
       "      <td>NaN</td>\n",
       "      <td>107.566304</td>\n",
       "    </tr>\n",
       "    <tr>\n",
       "      <td>4</td>\n",
       "      <td>35</td>\n",
       "      <td>0.247732</td>\n",
       "      <td>0.247732</td>\n",
       "      <td>20.000000</td>\n",
       "    </tr>\n",
       "    <tr>\n",
       "      <td>5</td>\n",
       "      <td>36</td>\n",
       "      <td>0.463005</td>\n",
       "      <td>0.673615</td>\n",
       "      <td>28.284271</td>\n",
       "    </tr>\n",
       "    <tr>\n",
       "      <td>6</td>\n",
       "      <td>40</td>\n",
       "      <td>0.235160</td>\n",
       "      <td>NaN</td>\n",
       "      <td>20.000000</td>\n",
       "    </tr>\n",
       "    <tr>\n",
       "      <td>7</td>\n",
       "      <td>52</td>\n",
       "      <td>0.328221</td>\n",
       "      <td>0.328221</td>\n",
       "      <td>20.000000</td>\n",
       "    </tr>\n",
       "    <tr>\n",
       "      <td>8</td>\n",
       "      <td>57</td>\n",
       "      <td>0.246365</td>\n",
       "      <td>0.246365</td>\n",
       "      <td>20.000000</td>\n",
       "    </tr>\n",
       "    <tr>\n",
       "      <td>9</td>\n",
       "      <td>61</td>\n",
       "      <td>0.221966</td>\n",
       "      <td>0.221966</td>\n",
       "      <td>10.000000</td>\n",
       "    </tr>\n",
       "    <tr>\n",
       "      <td>10</td>\n",
       "      <td>72</td>\n",
       "      <td>0.294157</td>\n",
       "      <td>NaN</td>\n",
       "      <td>24.142136</td>\n",
       "    </tr>\n",
       "    <tr>\n",
       "      <td>11</td>\n",
       "      <td>73</td>\n",
       "      <td>0.369268</td>\n",
       "      <td>0.369268</td>\n",
       "      <td>24.142136</td>\n",
       "    </tr>\n",
       "    <tr>\n",
       "      <td>12</td>\n",
       "      <td>78</td>\n",
       "      <td>0.503937</td>\n",
       "      <td>0.537583</td>\n",
       "      <td>24.142136</td>\n",
       "    </tr>\n",
       "    <tr>\n",
       "      <td>13</td>\n",
       "      <td>81</td>\n",
       "      <td>0.316492</td>\n",
       "      <td>0.316492</td>\n",
       "      <td>14.142136</td>\n",
       "    </tr>\n",
       "    <tr>\n",
       "      <td>14</td>\n",
       "      <td>82</td>\n",
       "      <td>0.235215</td>\n",
       "      <td>0.235215</td>\n",
       "      <td>20.000000</td>\n",
       "    </tr>\n",
       "    <tr>\n",
       "      <td>15</td>\n",
       "      <td>85</td>\n",
       "      <td>0.351235</td>\n",
       "      <td>0.351235</td>\n",
       "      <td>17.320508</td>\n",
       "    </tr>\n",
       "    <tr>\n",
       "      <td>16</td>\n",
       "      <td>89</td>\n",
       "      <td>0.255795</td>\n",
       "      <td>0.255795</td>\n",
       "      <td>14.142136</td>\n",
       "    </tr>\n",
       "    <tr>\n",
       "      <td>17</td>\n",
       "      <td>92</td>\n",
       "      <td>0.297636</td>\n",
       "      <td>0.297636</td>\n",
       "      <td>24.142136</td>\n",
       "    </tr>\n",
       "    <tr>\n",
       "      <td>18</td>\n",
       "      <td>93</td>\n",
       "      <td>1.099737</td>\n",
       "      <td>1.099737</td>\n",
       "      <td>84.641016</td>\n",
       "    </tr>\n",
       "    <tr>\n",
       "      <td>19</td>\n",
       "      <td>101</td>\n",
       "      <td>0.256195</td>\n",
       "      <td>NaN</td>\n",
       "      <td>28.284271</td>\n",
       "    </tr>\n",
       "  </tbody>\n",
       "</table>\n",
       "</div>"
      ],
      "text/plain": [
       "    event    energy  evt_energy      length\n",
       "0       7  0.335598    0.335598   20.000000\n",
       "1      20  0.449683    0.449683   24.142136\n",
       "2      21  0.231753    0.231753   14.142136\n",
       "3      28  1.285731         NaN  107.566304\n",
       "4      35  0.247732    0.247732   20.000000\n",
       "5      36  0.463005    0.673615   28.284271\n",
       "6      40  0.235160         NaN   20.000000\n",
       "7      52  0.328221    0.328221   20.000000\n",
       "8      57  0.246365    0.246365   20.000000\n",
       "9      61  0.221966    0.221966   10.000000\n",
       "10     72  0.294157         NaN   24.142136\n",
       "11     73  0.369268    0.369268   24.142136\n",
       "12     78  0.503937    0.537583   24.142136\n",
       "13     81  0.316492    0.316492   14.142136\n",
       "14     82  0.235215    0.235215   20.000000\n",
       "15     85  0.351235    0.351235   17.320508\n",
       "16     89  0.255795    0.255795   14.142136\n",
       "17     92  0.297636    0.297636   24.142136\n",
       "18     93  1.099737    1.099737   84.641016\n",
       "19    101  0.256195         NaN   28.284271"
      ]
     },
     "execution_count": 11,
     "metadata": {},
     "output_type": "execute_result"
    }
   ],
   "source": [
    "cdf[['event','energy','evt_energy','length']].head(20)"
   ]
  },
  {
   "cell_type": "code",
   "execution_count": null,
   "metadata": {},
   "outputs": [],
   "source": []
  },
  {
   "cell_type": "markdown",
   "metadata": {},
   "source": [
    "# Corrección en la energía "
   ]
  },
  {
   "cell_type": "code",
   "execution_count": null,
   "metadata": {},
   "outputs": [],
   "source": []
  },
  {
   "cell_type": "code",
   "execution_count": 6,
   "metadata": {},
   "outputs": [
    {
     "data": {
      "image/png": "[encoded data removed]",
      "text/plain": [
       "<Figure size 576x432 with 1 Axes>"
      ]
     },
     "metadata": {
      "needs_background": "light"
     },
     "output_type": "display_data"
    }
   ],
   "source": [
    "fig=plt.figure(1)\n",
    "\n",
    "fig.set_figheight(6.0)\n",
    "fig.set_figwidth(8.0)\n",
    "\n",
    "\n",
    "def lin(x, a, b):\n",
    "    y=a + b*x\n",
    "    return y\n",
    "    \n",
    "\n",
    "a=  -0.0034336981763256613 ;  b=  1.0339065586034326\n",
    "\n",
    "E_D=np.array([0.02945, 0.6775,  1.645])\n",
    "E_real=np.array([0.029782, 0.662, 1.593])\n",
    "DE_peak_real=1.593\n",
    "DE_peak_MC=1.603\n",
    "\n",
    "x = np.linspace(0., 1.75, 20)\n",
    "plt.plot(x, lin(x,a,b), 'k-', label='Linear fit')\n",
    "plt.plot(E_real, E_D, 'o', label='Real data')\n",
    "plt.plot(DE_peak_real, DE_peak_MC, 'rx', label='Montecarlo')\n",
    "plt.legend()\n",
    "plt.grid()\n",
    "plt.xlabel('Energía real (MeV)')\n",
    "plt.ylabel('Energía medida (MeV)')\n",
    "plt.suptitle('Linear fit y=a+bx',fontsize=20)\n",
    "plt.show()\n",
    "\n",
    "A_Ec_D_fit = (A_Ec_D-a)/b\n",
    "B_Ec_D_fit = (B_Ec_D-a)/b"
   ]
  },
  {
   "cell_type": "code",
   "execution_count": 57,
   "metadata": {},
   "outputs": [
    {
     "name": "stderr",
     "output_type": "stream",
     "text": [
      "/home/carlos/anaconda3/lib/python3.7/site-packages/ipykernel_launcher.py:9: RuntimeWarning: invalid value encountered in greater\n",
      "  if __name__ == '__main__':\n",
      "/home/carlos/anaconda3/lib/python3.7/site-packages/ipykernel_launcher.py:9: RuntimeWarning: invalid value encountered in less\n",
      "  if __name__ == '__main__':\n",
      "/home/carlos/anaconda3/lib/python3.7/site-packages/ipykernel_launcher.py:12: RuntimeWarning: invalid value encountered in greater\n",
      "  if sys.path[0] == '':\n",
      "/home/carlos/anaconda3/lib/python3.7/site-packages/ipykernel_launcher.py:12: RuntimeWarning: invalid value encountered in less\n",
      "  if sys.path[0] == '':\n",
      "/home/carlos/anaconda3/lib/python3.7/site-packages/ipykernel_launcher.py:16: RuntimeWarning: invalid value encountered in greater\n",
      "  app.launch_new_instance()\n",
      "/home/carlos/anaconda3/lib/python3.7/site-packages/ipykernel_launcher.py:16: RuntimeWarning: invalid value encountered in less\n",
      "  app.launch_new_instance()\n",
      "/home/carlos/anaconda3/lib/python3.7/site-packages/ipykernel_launcher.py:17: RuntimeWarning: invalid value encountered in greater\n",
      "/home/carlos/anaconda3/lib/python3.7/site-packages/ipykernel_launcher.py:17: RuntimeWarning: invalid value encountered in less\n",
      "/home/carlos/anaconda3/lib/python3.7/site-packages/ipykernel_launcher.py:42: RuntimeWarning: invalid value encountered in greater\n",
      "/home/carlos/anaconda3/lib/python3.7/site-packages/ipykernel_launcher.py:42: RuntimeWarning: invalid value encountered in less\n",
      "/home/carlos/anaconda3/lib/python3.7/site-packages/ipykernel_launcher.py:43: RuntimeWarning: invalid value encountered in greater\n",
      "/home/carlos/anaconda3/lib/python3.7/site-packages/ipykernel_launcher.py:43: RuntimeWarning: invalid value encountered in less\n",
      "/home/carlos/anaconda3/lib/python3.7/site-packages/ipykernel_launcher.py:49: RuntimeWarning: invalid value encountered in greater\n",
      "/home/carlos/anaconda3/lib/python3.7/site-packages/ipykernel_launcher.py:49: RuntimeWarning: invalid value encountered in less\n"
     ]
    },
    {
     "data": {
      "text/plain": [
       "<Figure size 576x432 with 0 Axes>"
      ]
     },
     "metadata": {},
     "output_type": "display_data"
    },
    {
     "data": {
      "image/png": "[encoded data removed]",
      "text/plain": [
       "<Figure size 1152x360 with 2 Axes>"
      ]
     },
     "metadata": {
      "needs_background": "light"
     },
     "output_type": "display_data"
    }
   ],
   "source": [
    "cwide_zmin = 50\n",
    "cwide_zmax = 500\n",
    "cwide_rmax = 180\n",
    "E_DE_min_new=(1.55-a)/b\n",
    "E_DE_max_new=(1.75-a)/b\n",
    "E_DE_min=E_DE_min_new\n",
    "E_DE_max=E_DE_max_new\n",
    "\n",
    "C_basic_D       = (A_Ec_D > 0) & (A_zavg_D < 580)\n",
    "C_wide_D        = C_basic_D & (A_zmin_D > cwide_zmin) & (A_zmax_D < cwide_zmax) & (A_rmax_D < cwide_rmax) \n",
    "\n",
    "C_basic_MC      = (A_Ec_MC > 0) & (A_zavg_MC < 580)\n",
    "C_wide_MC       = C_basic_MC & (A_zmin_MC > cwide_zmin) & (A_zmax_MC < cwide_zmax) & (A_rmax_MC < cwide_rmax)\n",
    "\n",
    "\n",
    "cut_DE_D = C_wide_D & (A_Ec_D_fit > E_DE_min) & (A_Ec_D_fit < E_DE_max)\n",
    "cut_DE_MC = C_wide_MC & (A_Ec_MC > E_DE_min) & (A_Ec_MC < E_DE_max)\n",
    "\n",
    "\n",
    "fig = plt.figure(1)\n",
    "fig.set_figheight(6.0)\n",
    "fig.set_figwidth(8.0)\n",
    "plt.suptitle('Energía corregida con el ajuste',fontsize=20)\n",
    "\n",
    "bins = 100\n",
    "bin_lim = np.linspace(E_DE_min, E_DE_max, bins+1)\n",
    "bin_center = 0.5*(bin_lim[:-1]+bin_lim[1:])\n",
    "bin_width = bin_lim[1:]-bin_lim[:-1]\n",
    "\n",
    "\n",
    "\n",
    "hist_D, _ = np.histogram(A_Ec_D_fit[cut_DE_D], bins)\n",
    "hist_D_norm = hist_D/np.max(hist_D)\n",
    "\n",
    "\n",
    "hist_MC, _ = np.histogram(A_Ec_MC[cut_DE_MC], bins)\n",
    "hist_MC_norm = hist_MC/np.max(hist_MC)\n",
    "\n",
    "\n",
    "\n",
    "\n",
    "C_basic_D       = (B_Ec_D > 0) & (B_zavg_D < 580)\n",
    "C_wide_D        = C_basic_D & (B_zmin_D > cwide_zmin) & (B_zmax_D < cwide_zmax) & (B_rmax_D < cwide_rmax) \n",
    "\n",
    "C_basic_MC      = (B_Ec_MC > 0) & (B_zavg_MC < 580)\n",
    "C_wide_MC       = C_basic_MC & (B_zmin_MC > cwide_zmin) & (B_zmax_MC < cwide_zmax) & (B_rmax_MC < cwide_rmax)\n",
    "\n",
    "\n",
    "cut_DE_D = C_wide_D & (B_Ec_D_fit > E_DE_min) & (B_Ec_D_fit < E_DE_max)\n",
    "cut_DE_MC = C_wide_MC & (B_Ec_MC > E_DE_min) & (B_Ec_MC < E_DE_max)\n",
    "\n",
    "\n",
    "\n",
    "bins = 100\n",
    "bin_lim = np.linspace(E_DE_min, E_DE_max, bins+1)\n",
    "bin_center = 0.5*(bin_lim[:-1]+bin_lim[1:])\n",
    "bin_width = bin_lim[1:]-bin_lim[:-1]\n",
    "\n",
    "\n",
    "\n",
    "B_hist_D, _ = np.histogram(B_Ec_D_fit[cut_DE_D], bins)\n",
    "B_hist_D_norm = B_hist_D/np.max(B_hist_D)\n",
    "\n",
    "\n",
    "B_hist_MC, _ = np.histogram(B_Ec_MC[cut_DE_MC], bins)\n",
    "B_hist_MC_norm = B_hist_MC/np.max(B_hist_MC)\n",
    "\n",
    "\n",
    "fig, axs = plt.subplots(1,2)\n",
    "\n",
    "fig.set_figheight(5.0)\n",
    "fig.set_figwidth(16.0)\n",
    "\n",
    "\n",
    "axs[0].bar(bin_center, hist_D_norm, width = bin_width, align = 'center', label = 'Real data', color='k')\n",
    "axs[0].bar(bin_center, hist_MC_norm, width = bin_width, align = 'center', alpha=0.5, label = 'Montecarlo', color='r')\n",
    "axs[1].bar(bin_center, B_hist_D_norm, width = bin_width, align = 'center', label = 'Real data', color='k')\n",
    "axs[1].bar(bin_center, B_hist_MC_norm, width = bin_width, align = 'center', alpha=0.5, label = 'Montecarlo', color='r')\n",
    "\n",
    "\n",
    "\n",
    "axs[0].set_title('Con vector $''corto''$ de energías')\n",
    "axs[1].set_title('Con vector $''largo''$ de energías')\n",
    "axs[0].set_xlabel('Energy (MeV)')\n",
    "axs[1].set_xlabel('Energy (MeV)')\n",
    "axs[1].set_ylabel('Normalized counts/bin')\n",
    "axs[0].set_ylabel('Normalized counts/bin')\n",
    "axs[0].legend()\n",
    "axs[1].legend()\n",
    "plt.show()"
   ]
  },
  {
   "cell_type": "markdown",
   "metadata": {},
   "source": [
    "3 zonas: 1.500-1.560; 1.560-1.630; 1.630-1.700"
   ]
  },
  {
   "cell_type": "markdown",
   "metadata": {},
   "source": [
    "# VENTANA POR DEBAJO DE PICO DOUBLE-ESCAPE"
   ]
  },
  {
   "cell_type": "markdown",
   "metadata": {},
   "source": [
    "# Número de trazas por evento"
   ]
  },
  {
   "cell_type": "code",
   "execution_count": 19,
   "metadata": {},
   "outputs": [
    {
     "name": "stderr",
     "output_type": "stream",
     "text": [
      "/home/carlos/anaconda3/lib/python3.7/site-packages/ipykernel_launcher.py:1: RuntimeWarning: invalid value encountered in greater_equal\n",
      "  \"\"\"Entry point for launching an IPython kernel.\n",
      "/home/carlos/anaconda3/lib/python3.7/site-packages/ipykernel_launcher.py:1: RuntimeWarning: invalid value encountered in greater\n",
      "  \"\"\"Entry point for launching an IPython kernel.\n",
      "/home/carlos/anaconda3/lib/python3.7/site-packages/ipykernel_launcher.py:1: RuntimeWarning: invalid value encountered in less\n",
      "  \"\"\"Entry point for launching an IPython kernel.\n",
      "/home/carlos/anaconda3/lib/python3.7/site-packages/ipykernel_launcher.py:4: RuntimeWarning: invalid value encountered in greater_equal\n",
      "  after removing the cwd from sys.path.\n",
      "/home/carlos/anaconda3/lib/python3.7/site-packages/ipykernel_launcher.py:4: RuntimeWarning: invalid value encountered in greater\n",
      "  after removing the cwd from sys.path.\n",
      "/home/carlos/anaconda3/lib/python3.7/site-packages/ipykernel_launcher.py:4: RuntimeWarning: invalid value encountered in less\n",
      "  after removing the cwd from sys.path.\n"
     ]
    },
    {
     "data": {
      "image/png": "[encoded data removed]",
      "text/plain": [
       "<Figure size 1152x360 with 2 Axes>"
      ]
     },
     "metadata": {
      "needs_background": "light"
     },
     "output_type": "display_data"
    },
    {
     "name": "stdout",
     "output_type": "stream",
     "text": [
      "Número medio de trazas por evento en el pico (Datos)= 1.6048530282106925\n",
      "Número medio de trazas por evento en el pico (MC)= 1.370930783892582\n",
      "Número medio de trazas por evento por debajo del pico (Datos)= 1.6557776694295465\n",
      "Número medio de trazas por evento por debajo del pico (MC)= 1.5089786367978735\n"
     ]
    }
   ],
   "source": [
    "cut_multitrks_DE_D = (B_numtrks_D >= 1) & (B_Ec_D_fit > 1.56) & (B_Ec_D_fit < 1.63)\n",
    "cut_multitrks_DE_MC = (B_numtrks_MC >= 1) & (B_Ec_MC > 1.56) & (B_Ec_MC < 1.63)\n",
    "\n",
    "cut_multitrks_DE_D_low = (B_numtrks_D >= 1) & (B_Ec_D_fit > 1.5) & (B_Ec_D_fit < 1.56)\n",
    "cut_multitrks_DE_MC_low = (B_numtrks_MC >= 1) & (B_Ec_MC > 1.5) & (B_Ec_MC < 1.56)\n",
    "\n",
    "fig, axs = plt.subplots(1,2)\n",
    "\n",
    "fig.set_figheight(5.0)\n",
    "fig.set_figwidth(16.0)\n",
    "\n",
    "axs[0].hist(B_numtrks_D[cut_multitrks_DE_D], 8, range=[0.5,8.5], color='k', label='Real data', density=True)\n",
    "axs[0].hist(B_numtrks_MC[cut_multitrks_DE_MC], 8, alpha=0.5, range=[0.5,8.5], color='r', label='Montecarlo', density=True)\n",
    "\n",
    "axs[1].hist(B_numtrks_D[cut_multitrks_DE_D_low], 8, range=[0.5,8.5], color='k', label='Real data', density=True)\n",
    "axs[1].hist(B_numtrks_MC[cut_multitrks_DE_MC_low], 8, alpha=0.5, range=[0.5,8.5], color='r', label='Montecarlo', density=True)\n",
    "\n",
    "axs[0].set_title('Pico de Double-Escape')\n",
    "axs[1].set_title('Ventana inferior al pico de DE')\n",
    "axs[0].set_xlabel('Nº tracks per event')\n",
    "axs[1].set_xlabel('Nº tracks per event')\n",
    "axs[1].set_ylabel('Normalized counts/bin')\n",
    "axs[0].set_ylabel('Normalized counts/bin')\n",
    "axs[0].legend()\n",
    "axs[1].legend()\n",
    "plt.show()\n",
    "\n",
    "print('Número medio de trazas por evento en el pico (Datos)=', np.mean(B_numtrks_D[cut_multitrks_DE_D]))\n",
    "print('Número medio de trazas por evento en el pico (MC)=', np.mean(B_numtrks_MC[cut_multitrks_DE_MC]))\n",
    "print('Número medio de trazas por evento por debajo del pico (Datos)=', np.mean(B_numtrks_D[cut_multitrks_DE_D_low]))\n",
    "print('Número medio de trazas por evento por debajo del pico (MC)=', np.mean(B_numtrks_MC[cut_multitrks_DE_MC_low]))"
   ]
  },
  {
   "cell_type": "code",
   "execution_count": 8,
   "metadata": {},
   "outputs": [
    {
     "name": "stdout",
     "output_type": "stream",
     "text": [
      "(array([5.56402960e-01, 2.93796244e-01, 1.10643142e-01, 2.82299374e-02,\n",
      "       7.28514513e-03, 3.18725100e-03, 4.55321571e-04, 0.00000000e+00]), array([0.5, 1.5, 2.5, 3.5, 4.5, 5.5, 6.5, 7.5, 8.5]), <a list of 8 Patch objects>)\n",
      "(array([6.09632178e-01, 2.92873572e-01, 8.07872267e-02, 1.46703807e-02,\n",
      "       1.89949084e-03, 1.33510538e-04, 3.64119650e-06, 0.00000000e+00]), array([0.5, 1.5, 2.5, 3.5, 4.5, 5.5, 6.5, 7.5, 8.5]), <a list of 8 Patch objects>)\n"
     ]
    },
    {
     "data": {
      "image/png": "[encoded data removed]",
      "text/plain": [
       "<Figure size 432x288 with 1 Axes>"
      ]
     },
     "metadata": {
      "needs_background": "light"
     },
     "output_type": "display_data"
    }
   ],
   "source": [
    "print(plt.hist(B_numtrks_D[cut_multitrks_DE_D_low], 8, range=[0.5,8.5], color='k', label='Real data', density=True))\n",
    "print(plt.hist(B_numtrks_MC[cut_multitrks_DE_MC_low], 8, range=[0.5,8.5], color='k', label='Real data', density=True))"
   ]
  },
  {
   "cell_type": "markdown",
   "metadata": {},
   "source": [
    "# Longitud de las trazas"
   ]
  },
  {
   "cell_type": "code",
   "execution_count": 20,
   "metadata": {},
   "outputs": [
    {
     "name": "stderr",
     "output_type": "stream",
     "text": [
      "/home/carlos/anaconda3/lib/python3.7/site-packages/ipykernel_launcher.py:1: RuntimeWarning: invalid value encountered in greater_equal\n",
      "  \"\"\"Entry point for launching an IPython kernel.\n",
      "/home/carlos/anaconda3/lib/python3.7/site-packages/ipykernel_launcher.py:1: RuntimeWarning: invalid value encountered in greater\n",
      "  \"\"\"Entry point for launching an IPython kernel.\n",
      "/home/carlos/anaconda3/lib/python3.7/site-packages/ipykernel_launcher.py:1: RuntimeWarning: invalid value encountered in less\n",
      "  \"\"\"Entry point for launching an IPython kernel.\n",
      "/home/carlos/anaconda3/lib/python3.7/site-packages/ipykernel_launcher.py:4: RuntimeWarning: invalid value encountered in greater_equal\n",
      "  after removing the cwd from sys.path.\n",
      "/home/carlos/anaconda3/lib/python3.7/site-packages/ipykernel_launcher.py:4: RuntimeWarning: invalid value encountered in greater\n",
      "  after removing the cwd from sys.path.\n",
      "/home/carlos/anaconda3/lib/python3.7/site-packages/ipykernel_launcher.py:4: RuntimeWarning: invalid value encountered in less\n",
      "  after removing the cwd from sys.path.\n"
     ]
    },
    {
     "data": {
      "image/png": "[encoded data removed]",
      "text/plain": [
       "<Figure size 1152x360 with 2 Axes>"
      ]
     },
     "metadata": {
      "needs_background": "light"
     },
     "output_type": "display_data"
    },
    {
     "name": "stdout",
     "output_type": "stream",
     "text": [
      "Longitud media de las trazas en el pico (Datos)= 94.25702044353143\n",
      "Longitud media de las trazas en el pico (MC)= 84.18225369226678\n",
      "Longitud media de las trazas por debajo del pico (Datos)= 98.93698534950656\n",
      "Longitud media de las trazas por debajo del pico (MC)= 88.35741367005235\n"
     ]
    }
   ],
   "source": [
    "cut_multitrks_DE_D = (B_numtrks_D >= 1) & (B_Ec_D_fit > 1.56) & (B_Ec_D_fit < 1.63)\n",
    "cut_multitrks_DE_MC = (B_numtrks_MC >= 1) & (B_Ec_MC > 1.56) & (B_Ec_MC < 1.63)\n",
    "\n",
    "cut_multitrks_DE_D_low = (B_numtrks_D >= 1) & (B_Ec_D_fit > 1.5) & (B_Ec_D_fit < 1.56)\n",
    "cut_multitrks_DE_MC_low = (B_numtrks_MC >= 1) & (B_Ec_MC > 1.5) & (B_Ec_MC < 1.56)\n",
    "\n",
    "fig, axs = plt.subplots(1,2)\n",
    "\n",
    "fig.set_figheight(5.0)\n",
    "fig.set_figwidth(16.0)\n",
    "\n",
    "axs[0].hist(B_trklen_D[cut_multitrks_DE_D], 100, color='k', label='Real data', density=True)\n",
    "axs[0].hist(B_trklen_MC[cut_multitrks_DE_MC],100, alpha=0.5, color='r', label='Montecarlo', density=True)\n",
    "\n",
    "axs[1].hist(B_trklen_D[cut_multitrks_DE_D_low], 100, color='k', label='Real data', density=True)\n",
    "axs[1].hist(B_trklen_MC[cut_multitrks_DE_MC_low], 100, alpha=0.5, color='r', label='Montecarlo', density=True)\n",
    "\n",
    "axs[0].set_title('Pico de Double-Escape')\n",
    "axs[1].set_title('Ventana inferior al pico de DE')\n",
    "axs[0].set_xlabel('Track length (mm)')\n",
    "axs[1].set_xlabel('Track length (mm)')\n",
    "axs[1].set_ylabel('Normalized counts/bin')\n",
    "axs[0].set_ylabel('Normalized counts/bin')\n",
    "axs[0].legend()\n",
    "axs[1].legend()\n",
    "plt.show()\n",
    "\n",
    "print('Longitud media de las trazas en el pico (Datos)=', np.mean(B_trklen_D[cut_multitrks_DE_D]))\n",
    "print('Longitud media de las trazas en el pico (MC)=', np.mean(B_trklen_MC[cut_multitrks_DE_MC]))\n",
    "print('Longitud media de las trazas por debajo del pico (Datos)=', np.mean(B_trklen_D[cut_multitrks_DE_D_low]))\n",
    "print('Longitud media de las trazas por debajo del pico (MC)=', np.mean(B_trklen_MC[cut_multitrks_DE_MC_low]))\n",
    "\n",
    "\n"
   ]
  },
  {
   "cell_type": "markdown",
   "metadata": {},
   "source": [
    "# Profile: no sé hacer subplots con sns"
   ]
  },
  {
   "cell_type": "code",
   "execution_count": 11,
   "metadata": {
    "scrolled": false
   },
   "outputs": [
    {
     "name": "stderr",
     "output_type": "stream",
     "text": [
      "/home/carlos/anaconda3/lib/python3.7/site-packages/ipykernel_launcher.py:5: RuntimeWarning: invalid value encountered in greater\n",
      "  \"\"\"\n",
      "/home/carlos/anaconda3/lib/python3.7/site-packages/ipykernel_launcher.py:5: RuntimeWarning: invalid value encountered in less\n",
      "  \"\"\"\n",
      "/home/carlos/anaconda3/lib/python3.7/site-packages/ipykernel_launcher.py:6: RuntimeWarning: invalid value encountered in greater\n",
      "  \n",
      "/home/carlos/anaconda3/lib/python3.7/site-packages/ipykernel_launcher.py:6: RuntimeWarning: invalid value encountered in less\n",
      "  \n",
      "/home/carlos/anaconda3/lib/python3.7/site-packages/ipykernel_launcher.py:20: RuntimeWarning: invalid value encountered in greater\n",
      "/home/carlos/anaconda3/lib/python3.7/site-packages/ipykernel_launcher.py:20: RuntimeWarning: invalid value encountered in less\n",
      "/home/carlos/anaconda3/lib/python3.7/site-packages/ipykernel_launcher.py:21: RuntimeWarning: invalid value encountered in greater\n",
      "/home/carlos/anaconda3/lib/python3.7/site-packages/ipykernel_launcher.py:21: RuntimeWarning: invalid value encountered in less\n",
      "/home/carlos/anaconda3/lib/python3.7/site-packages/ipykernel_launcher.py:23: RuntimeWarning: invalid value encountered in greater\n",
      "/home/carlos/anaconda3/lib/python3.7/site-packages/ipykernel_launcher.py:23: RuntimeWarning: invalid value encountered in less\n",
      "/home/carlos/anaconda3/lib/python3.7/site-packages/ipykernel_launcher.py:24: RuntimeWarning: invalid value encountered in greater\n",
      "/home/carlos/anaconda3/lib/python3.7/site-packages/ipykernel_launcher.py:24: RuntimeWarning: invalid value encountered in less\n",
      "/home/carlos/anaconda3/lib/python3.7/site-packages/ipykernel_launcher.py:26: RuntimeWarning: invalid value encountered in greater\n",
      "/home/carlos/anaconda3/lib/python3.7/site-packages/ipykernel_launcher.py:26: RuntimeWarning: invalid value encountered in less\n",
      "/home/carlos/anaconda3/lib/python3.7/site-packages/ipykernel_launcher.py:27: RuntimeWarning: invalid value encountered in greater\n",
      "/home/carlos/anaconda3/lib/python3.7/site-packages/ipykernel_launcher.py:27: RuntimeWarning: invalid value encountered in less\n",
      "/home/carlos/anaconda3/lib/python3.7/site-packages/ipykernel_launcher.py:29: RuntimeWarning: invalid value encountered in greater\n",
      "/home/carlos/anaconda3/lib/python3.7/site-packages/ipykernel_launcher.py:29: RuntimeWarning: invalid value encountered in less\n",
      "/home/carlos/anaconda3/lib/python3.7/site-packages/ipykernel_launcher.py:30: RuntimeWarning: invalid value encountered in greater\n",
      "/home/carlos/anaconda3/lib/python3.7/site-packages/ipykernel_launcher.py:30: RuntimeWarning: invalid value encountered in less\n"
     ]
    },
    {
     "data": {
      "text/plain": [
       "<matplotlib.legend.Legend at 0x7fa366cf4190>"
      ]
     },
     "execution_count": 11,
     "metadata": {},
     "output_type": "execute_result"
    },
    {
     "data": {
      "image/png": "[encoded data removed]",
      "text/plain": [
       "<Figure size 576x360 with 1 Axes>"
      ]
     },
     "metadata": {
      "needs_background": "light"
     },
     "output_type": "display_data"
    },
    {
     "data": {
      "image/png": "[encoded data removed]",
      "text/plain": [
       "<Figure size 576x360 with 1 Axes>"
      ]
     },
     "metadata": {
      "needs_background": "light"
     },
     "output_type": "display_data"
    },
    {
     "data": {
      "image/png": "[encoded data removed]",
      "text/plain": [
       "<Figure size 576x360 with 1 Axes>"
      ]
     },
     "metadata": {
      "needs_background": "light"
     },
     "output_type": "display_data"
    },
    {
     "data": {
      "image/png": "[encoded data removed]",
      "text/plain": [
       "<Figure size 576x360 with 1 Axes>"
      ]
     },
     "metadata": {
      "needs_background": "light"
     },
     "output_type": "display_data"
    }
   ],
   "source": [
    "cwide_zmin = 50\n",
    "cwide_zmax = 500\n",
    "cwide_rmax = 180\n",
    "\n",
    "C_basic_D       = (B_Ec_D > 0) & (B_zavg_D < 580)\n",
    "C_wide_D        = C_basic_D & (B_zmin_D > cwide_zmin) & (B_zmax_D < cwide_zmax) & (B_rmax_D < cwide_rmax) & (B_nS1_D == 1)\n",
    "\n",
    "C_basic_MC      = (B_Ec_MC > 0) & (B_zavg_MC < 580)\n",
    "C_wide_MC       = C_basic_MC & (B_zmin_MC > cwide_zmin) & (B_zmax_MC < cwide_zmax) & (B_rmax_MC < cwide_rmax) & (B_nS1_MC == 1)\n",
    "\n",
    "E_DE_min=1.5\n",
    "E_DE_max=1.8\n",
    "\n",
    "E_DE_min_low=1.4\n",
    "E_DE_max_low=1.6\n",
    "\n",
    "B_Ec_evt_D=(B_Ec_evt_D-a)/b\n",
    "B_Ec_evt_MC=(B_Ec_evt_MC-a)/b\n",
    "\n",
    "cuts_Evstrklen_1_D = C_wide_D & (B_numtrks_D == 1) & (B_Ec_evt_D > E_DE_min) & (B_Ec_evt_D < E_DE_max) & (B_nS2_D == 1)\n",
    "cuts_Evstrklen_else_D = C_wide_D & (B_numtrks_D > 1) & (B_Ec_evt_D > E_DE_min) & (B_Ec_evt_D < E_DE_max) & (B_nS2_D == 1)\n",
    "\n",
    "cuts_Evstrklen_1_MC = C_wide_MC & (B_numtrks_MC == 1) & (B_Ec_evt_MC > E_DE_min) & (B_Ec_evt_MC < E_DE_max) & (B_nS2_MC == 1)\n",
    "cuts_Evstrklen_else_MC = C_wide_MC & (B_numtrks_MC > 1) & (B_Ec_evt_MC > E_DE_min) & (B_Ec_evt_MC < E_DE_max) & (B_nS2_MC == 1)\n",
    "\n",
    "cuts_Evstrklen_1_D_low = C_wide_D & (B_numtrks_D == 1) & (B_Ec_evt_D > E_DE_min_low) & (B_Ec_evt_D < E_DE_max_low) & (B_nS2_D == 1)\n",
    "cuts_Evstrklen_else_D_low = C_wide_D & (B_numtrks_D > 1) & (B_Ec_evt_D > E_DE_min_low) & (B_Ec_evt_D < E_DE_max_low) & (B_nS2_D == 1)\n",
    "\n",
    "cuts_Evstrklen_1_MC_low = C_wide_MC & (B_numtrks_MC == 1) & (B_Ec_evt_MC > E_DE_min_low) & (B_Ec_evt_MC < E_DE_max_low) & (B_nS2_MC == 1)\n",
    "cuts_Evstrklen_else_MC_low = C_wide_MC & (B_numtrks_MC > 1) & (B_Ec_evt_MC > E_DE_min_low) & (B_Ec_evt_MC < E_DE_max_low) & (B_nS2_MC == 1)\n",
    "\n",
    "\n",
    "fig=plt.figure(1)\n",
    "\n",
    "fig.set_figheight(5.0)\n",
    "fig.set_figwidth(8.0)\n",
    "\n",
    "sns.regplot(x=B_Ec_evt_D[cuts_Evstrklen_1_D], y=B_trklen_D[cuts_Evstrklen_1_D], x_bins=np.linspace(E_DE_min,E_DE_max,40), fit_reg=None, label='1 track' , color='k')\n",
    "sns.regplot(x=B_Ec_evt_D[cuts_Evstrklen_else_D], y=B_trklen_D[cuts_Evstrklen_else_D], x_bins=np.linspace(E_DE_min,E_DE_max,40), fit_reg=None, label='Multiple tracks', color='r')\n",
    "\n",
    "plt.xlabel(\"Event energy (MeV)\")\n",
    "plt.ylabel(\"Track length (mm)\")\n",
    "plt.suptitle('Track length for Data on DE peak',fontsize=20)\n",
    "plt.legend()\n",
    "\n",
    "\n",
    "fig=plt.figure(2)\n",
    "\n",
    "fig.set_figheight(5.0)\n",
    "fig.set_figwidth(8.0)\n",
    "\n",
    "sns.regplot(x=B_Ec_MC[cuts_Evstrklen_1_MC], y=B_trklen_MC[cuts_Evstrklen_1_MC], x_bins=np.linspace(E_DE_min,E_DE_max,40), fit_reg=None, label='1 track', color='k')\n",
    "sns.regplot(x=B_Ec_MC[cuts_Evstrklen_else_MC], y=B_trklen_MC[cuts_Evstrklen_else_MC], x_bins=np.linspace(E_DE_min,E_DE_max,40), fit_reg=None, label='Multiple tracks', color='r')\n",
    "\n",
    "plt.xlabel(\"Event energy (MeV)\")\n",
    "plt.ylabel(\"Track length (mm)\")\n",
    "plt.suptitle('Track length for MC on DE peak',fontsize=20)\n",
    "plt.legend()\n",
    "\n",
    "\n",
    "fig=plt.figure(3)\n",
    "\n",
    "fig.set_figheight(5.0)\n",
    "fig.set_figwidth(8.0)\n",
    "\n",
    "sns.regplot(x=B_Ec_evt_D[cuts_Evstrklen_1_D_low], y=B_trklen_D[cuts_Evstrklen_1_D_low], x_bins=np.linspace(E_DE_min,E_DE_max,40), fit_reg=None, label='1 track' , color='k')\n",
    "sns.regplot(x=B_Ec_evt_D[cuts_Evstrklen_else_D_low], y=B_trklen_D[cuts_Evstrklen_else_D_low], x_bins=np.linspace(E_DE_min,E_DE_max,40), fit_reg=None, label='Multiple tracks', color='r')\n",
    "\n",
    "plt.xlabel(\"Event energy (MeV)\")\n",
    "plt.ylabel(\"Track length (mm)\")\n",
    "plt.suptitle('Track length for Data on lower DE peak region',fontsize=20)\n",
    "plt.legend()\n",
    "\n",
    "\n",
    "fig=plt.figure(4)\n",
    "\n",
    "fig.set_figheight(5.0)\n",
    "fig.set_figwidth(8.0)\n",
    "\n",
    "sns.regplot(x=B_Ec_MC[cuts_Evstrklen_1_MC_low], y=B_trklen_MC[cuts_Evstrklen_1_MC_low], x_bins=np.linspace(E_DE_min_low,E_DE_max_low,40), fit_reg=None, label='1 track', color='k')\n",
    "sns.regplot(x=B_Ec_MC[cuts_Evstrklen_else_MC_low], y=B_trklen_MC[cuts_Evstrklen_else_MC_low], x_bins=np.linspace(E_DE_min_low,E_DE_max_low,40), fit_reg=None, label='Multiple tracks', color='r')\n",
    "\n",
    "\n",
    "\n",
    "plt.xlabel(\"Event energy (MeV)\")\n",
    "plt.ylabel(\"Track length (mm)\")\n",
    "plt.suptitle('Track length for MC on lower DE peak region',fontsize=20)\n",
    "plt.legend()"
   ]
  },
  {
   "cell_type": "markdown",
   "metadata": {},
   "source": [
    "# Longitud de la traza más larga"
   ]
  },
  {
   "cell_type": "code",
   "execution_count": 12,
   "metadata": {
    "scrolled": false
   },
   "outputs": [
    {
     "name": "stderr",
     "output_type": "stream",
     "text": [
      "/home/carlos/anaconda3/lib/python3.7/site-packages/ipykernel_launcher.py:1: RuntimeWarning: invalid value encountered in greater_equal\n",
      "  \"\"\"Entry point for launching an IPython kernel.\n",
      "/home/carlos/anaconda3/lib/python3.7/site-packages/ipykernel_launcher.py:1: RuntimeWarning: invalid value encountered in greater\n",
      "  \"\"\"Entry point for launching an IPython kernel.\n",
      "/home/carlos/anaconda3/lib/python3.7/site-packages/ipykernel_launcher.py:1: RuntimeWarning: invalid value encountered in less\n",
      "  \"\"\"Entry point for launching an IPython kernel.\n",
      "/home/carlos/anaconda3/lib/python3.7/site-packages/ipykernel_launcher.py:2: RuntimeWarning: invalid value encountered in greater_equal\n",
      "  \n",
      "/home/carlos/anaconda3/lib/python3.7/site-packages/ipykernel_launcher.py:2: RuntimeWarning: invalid value encountered in greater\n",
      "  \n",
      "/home/carlos/anaconda3/lib/python3.7/site-packages/ipykernel_launcher.py:2: RuntimeWarning: invalid value encountered in less\n",
      "  \n",
      "/home/carlos/anaconda3/lib/python3.7/site-packages/ipykernel_launcher.py:4: RuntimeWarning: invalid value encountered in greater_equal\n",
      "  after removing the cwd from sys.path.\n",
      "/home/carlos/anaconda3/lib/python3.7/site-packages/ipykernel_launcher.py:4: RuntimeWarning: invalid value encountered in greater\n",
      "  after removing the cwd from sys.path.\n",
      "/home/carlos/anaconda3/lib/python3.7/site-packages/ipykernel_launcher.py:4: RuntimeWarning: invalid value encountered in less\n",
      "  after removing the cwd from sys.path.\n",
      "/home/carlos/anaconda3/lib/python3.7/site-packages/ipykernel_launcher.py:5: RuntimeWarning: invalid value encountered in greater_equal\n",
      "  \"\"\"\n",
      "/home/carlos/anaconda3/lib/python3.7/site-packages/ipykernel_launcher.py:5: RuntimeWarning: invalid value encountered in greater\n",
      "  \"\"\"\n",
      "/home/carlos/anaconda3/lib/python3.7/site-packages/ipykernel_launcher.py:5: RuntimeWarning: invalid value encountered in less\n",
      "  \"\"\"\n"
     ]
    },
    {
     "data": {
      "image/png": "[encoded data removed]",
      "text/plain": [
       "<Figure size 1152x360 with 2 Axes>"
      ]
     },
     "metadata": {
      "needs_background": "light"
     },
     "output_type": "display_data"
    },
    {
     "name": "stdout",
     "output_type": "stream",
     "text": [
      "Longitud media de la traza más larga en el pico (Datos)= 100.71358378000936\n",
      "Longitud media de la traza más larga en el pico (MC)= 100.68821118481061\n",
      "Longitud media de la traza más larga por debajo del pico (Datos)= 95.76338992707275\n",
      "Longitud media de la traza más larga por debajo del pico (MC)= 95.92698692783758\n"
     ]
    }
   ],
   "source": [
    "cut_multitrks_DE_D = (A_numtrks_D >= 1) & (A_Ec_D_fit > 1.55) & (A_Ec_D_fit < 1.75)\n",
    "cut_multitrks_DE_MC = (A_numtrks_MC >= 1) & (A_Ec_MC > 1.55) & (A_Ec_MC < 1.75)\n",
    "\n",
    "cut_multitrks_DE_D_low = (A_numtrks_D >= 1) & (A_Ec_D_fit > 1.4) & (A_Ec_D_fit < 1.6)\n",
    "cut_multitrks_DE_MC_low = (A_numtrks_MC >= 1) & (A_Ec_MC > 1.4) & (A_Ec_MC < 1.6)\n",
    "\n",
    "fig, axs = plt.subplots(1,2)\n",
    "\n",
    "fig.set_figheight(5.0)\n",
    "fig.set_figwidth(16.0)\n",
    "\n",
    "axs[0].hist(A_maxtrklen_D[cut_multitrks_DE_D], 100, color='k', label='Real data', density=True)\n",
    "axs[0].hist(A_maxtrklen_MC[cut_multitrks_DE_MC],100, alpha=0.5, color='r', label='Montecarlo', density=True)\n",
    "\n",
    "axs[1].hist(A_maxtrklen_D[cut_multitrks_DE_D_low], 100, color='k', label='Real data', density=True)\n",
    "axs[1].hist(A_maxtrklen_MC[cut_multitrks_DE_MC_low], 100, alpha=0.5, color='r', label='Montecarlo', density=True)\n",
    "\n",
    "axs[0].set_title('Pico de Double-Escape')\n",
    "axs[1].set_title('Ventana inferior al pico de DE')\n",
    "axs[0].set_xlabel('Track length (mm)')\n",
    "axs[1].set_xlabel('Track length (mm)')\n",
    "axs[1].set_ylabel('Normalized counts/bin')\n",
    "axs[0].set_ylabel('Normalized counts/bin')\n",
    "axs[0].legend()\n",
    "axs[1].legend()\n",
    "plt.show()\n",
    "\n",
    "print('Longitud media de la traza más larga en el pico (Datos)=', np.mean(A_maxtrklen_D[cut_multitrks_DE_D]))\n",
    "print('Longitud media de la traza más larga en el pico (MC)=', np.mean(A_maxtrklen_MC[cut_multitrks_DE_MC]))\n",
    "print('Longitud media de la traza más larga por debajo del pico (Datos)=', np.mean(A_maxtrklen_D[cut_multitrks_DE_D_low]))\n",
    "print('Longitud media de la traza más larga por debajo del pico (MC)=', np.mean(A_maxtrklen_MC[cut_multitrks_DE_MC_low]))\n",
    "\n"
   ]
  },
  {
   "cell_type": "markdown",
   "metadata": {},
   "source": [
    "# Nº S2"
   ]
  },
  {
   "cell_type": "code",
   "execution_count": 13,
   "metadata": {},
   "outputs": [
    {
     "name": "stderr",
     "output_type": "stream",
     "text": [
      "/home/carlos/anaconda3/lib/python3.7/site-packages/ipykernel_launcher.py:1: RuntimeWarning: invalid value encountered in greater_equal\n",
      "  \"\"\"Entry point for launching an IPython kernel.\n",
      "/home/carlos/anaconda3/lib/python3.7/site-packages/ipykernel_launcher.py:1: RuntimeWarning: invalid value encountered in greater\n",
      "  \"\"\"Entry point for launching an IPython kernel.\n",
      "/home/carlos/anaconda3/lib/python3.7/site-packages/ipykernel_launcher.py:1: RuntimeWarning: invalid value encountered in less\n",
      "  \"\"\"Entry point for launching an IPython kernel.\n",
      "/home/carlos/anaconda3/lib/python3.7/site-packages/ipykernel_launcher.py:4: RuntimeWarning: invalid value encountered in greater_equal\n",
      "  after removing the cwd from sys.path.\n",
      "/home/carlos/anaconda3/lib/python3.7/site-packages/ipykernel_launcher.py:4: RuntimeWarning: invalid value encountered in greater\n",
      "  after removing the cwd from sys.path.\n",
      "/home/carlos/anaconda3/lib/python3.7/site-packages/ipykernel_launcher.py:4: RuntimeWarning: invalid value encountered in less\n",
      "  after removing the cwd from sys.path.\n"
     ]
    },
    {
     "data": {
      "image/png": "[encoded data removed]",
      "text/plain": [
       "<Figure size 1152x360 with 2 Axes>"
      ]
     },
     "metadata": {
      "needs_background": "light"
     },
     "output_type": "display_data"
    },
    {
     "name": "stdout",
     "output_type": "stream",
     "text": [
      "Número medio de S2 en el pico (Datos)= 1.5942608063930257\n",
      "Número medio de S2 en el pico (MC)= 1.674522571612735\n",
      "Número medio de S2 por debajo del pico (Datos)= 1.578030734206033\n",
      "Número medio de S2 por debajo del pico (MC)= 1.753375692585917\n"
     ]
    }
   ],
   "source": [
    "cut_multitrks_DE_D = (B_numtrks_D >= 1) & (B_Ec_D_fit > 1.55) & (B_Ec_D_fit < 1.75)\n",
    "cut_multitrks_DE_MC = (B_numtrks_MC >= 1) & (B_Ec_MC > 1.55) & (B_Ec_MC < 1.75)\n",
    "\n",
    "cut_multitrks_DE_D_low = (B_numtrks_D >= 1) & (B_Ec_D_fit > 1.4) & (B_Ec_D_fit < 1.6)\n",
    "cut_multitrks_DE_MC_low = (B_numtrks_MC >= 1) & (B_Ec_MC > 1.4) & (B_Ec_MC < 1.6)\n",
    "\n",
    "\n",
    "fig, axs = plt.subplots(1,2)\n",
    "\n",
    "fig.set_figheight(5.0)\n",
    "fig.set_figwidth(16.0)\n",
    "\n",
    "\n",
    "axs[0].hist(B_nS2_D[cut_multitrks_DE_D], 10, range=[0.5,10.5], color='k', label='Real data', density=True)\n",
    "axs[0].hist(B_nS2_MC[cut_multitrks_DE_MC], 10, alpha=0.5, range=[0.5,10.5], color='r', label='Montecarlo', density=True)\n",
    "\n",
    "axs[1].hist(B_nS2_D[cut_multitrks_DE_D_low], 10, range=[0.5,10.5], color='k', label='Real data', density=True)\n",
    "axs[1].hist(B_nS2_MC[cut_multitrks_DE_MC_low], 10, alpha=0.5, range=[0.5,10.5], color='r', label='Montecarlo', density=True)\n",
    "\n",
    "plt.xlabel('Nº  S2')\n",
    "plt.ylabel('Normalized counts / bin')\n",
    "plt.legend() \n",
    "\n",
    "axs[0].set_title('Pico de Double-Escape')\n",
    "axs[1].set_title('Ventana inferior al pico de DE')\n",
    "axs[0].set_xlabel('Nº  S2')\n",
    "axs[1].set_xlabel('Nº  S2')\n",
    "axs[1].set_ylabel('Normalized counts/bin')\n",
    "axs[0].set_ylabel('Normalized counts/bin')\n",
    "axs[0].legend()\n",
    "axs[1].legend()\n",
    "plt.show()\n",
    "\n",
    "print('Número medio de S2 en el pico (Datos)=', np.mean(B_nS2_D[cut_multitrks_DE_D]))\n",
    "print('Número medio de S2 en el pico (MC)=', np.mean(B_nS2_MC[cut_multitrks_DE_MC]))\n",
    "print('Número medio de S2 por debajo del pico (Datos)=', np.mean(B_nS2_D[cut_multitrks_DE_D_low]))\n",
    "print('Número medio de S2 por debajo del pico (MC)=', np.mean(B_nS2_MC[cut_multitrks_DE_MC_low]))\n",
    "\n"
   ]
  },
  {
   "cell_type": "code",
   "execution_count": null,
   "metadata": {},
   "outputs": [],
   "source": []
  },
  {
   "cell_type": "code",
   "execution_count": null,
   "metadata": {},
   "outputs": [],
   "source": []
  },
  {
   "cell_type": "code",
   "execution_count": null,
   "metadata": {},
   "outputs": [],
   "source": []
  },
  {
   "cell_type": "markdown",
   "metadata": {},
   "source": [
    "# VENTANA POR ENCIMA DE PICO DOUBLE-ESCAPE"
   ]
  },
  {
   "cell_type": "markdown",
   "metadata": {},
   "source": [
    "# Número de trazas por evento"
   ]
  },
  {
   "cell_type": "code",
   "execution_count": 14,
   "metadata": {},
   "outputs": [
    {
     "name": "stderr",
     "output_type": "stream",
     "text": [
      "/home/carlos/anaconda3/lib/python3.7/site-packages/ipykernel_launcher.py:1: RuntimeWarning: invalid value encountered in greater_equal\n",
      "  \"\"\"Entry point for launching an IPython kernel.\n",
      "/home/carlos/anaconda3/lib/python3.7/site-packages/ipykernel_launcher.py:1: RuntimeWarning: invalid value encountered in greater\n",
      "  \"\"\"Entry point for launching an IPython kernel.\n",
      "/home/carlos/anaconda3/lib/python3.7/site-packages/ipykernel_launcher.py:1: RuntimeWarning: invalid value encountered in less\n",
      "  \"\"\"Entry point for launching an IPython kernel.\n",
      "/home/carlos/anaconda3/lib/python3.7/site-packages/ipykernel_launcher.py:4: RuntimeWarning: invalid value encountered in greater_equal\n",
      "  after removing the cwd from sys.path.\n",
      "/home/carlos/anaconda3/lib/python3.7/site-packages/ipykernel_launcher.py:4: RuntimeWarning: invalid value encountered in greater\n",
      "  after removing the cwd from sys.path.\n",
      "/home/carlos/anaconda3/lib/python3.7/site-packages/ipykernel_launcher.py:4: RuntimeWarning: invalid value encountered in less\n",
      "  after removing the cwd from sys.path.\n"
     ]
    },
    {
     "data": {
      "image/png": "[encoded data removed]",
      "text/plain": [
       "<Figure size 1152x360 with 2 Axes>"
      ]
     },
     "metadata": {
      "needs_background": "light"
     },
     "output_type": "display_data"
    },
    {
     "name": "stdout",
     "output_type": "stream",
     "text": [
      "Número medio de trazas por evento en el pico (Datos)= 1.647536021310086\n",
      "Número medio de trazas por evento en el pico (MC)= 1.3368762481738128\n",
      "Número medio de trazas por evento por encima del pico (Datos)= 1.7422654690618762\n",
      "Número medio de trazas por evento por encima del pico (MC)= 1.1055473388868347\n"
     ]
    }
   ],
   "source": [
    "cut_multitrks_DE_D = (B_numtrks_D >= 1) & (B_Ec_D_fit > 1.55) & (B_Ec_D_fit < 1.75)\n",
    "cut_multitrks_DE_MC = (B_numtrks_MC >= 1) & (B_Ec_MC > 1.55) & (B_Ec_MC < 1.75)\n",
    "\n",
    "cut_multitrks_DE_D_up = (B_numtrks_D >= 1) & (B_Ec_D_fit > 1.7) & (B_Ec_D_fit < 1.9)\n",
    "cut_multitrks_DE_MC_up = (B_numtrks_MC >= 1) & (B_Ec_MC > 1.7) & (B_Ec_MC < 1.9)\n",
    "\n",
    "fig, axs = plt.subplots(1,2)\n",
    "\n",
    "fig.set_figheight(5.0)\n",
    "fig.set_figwidth(16.0)\n",
    "\n",
    "axs[0].hist(B_numtrks_D[cut_multitrks_DE_D], 8, range=[0.5,8.5], color='k', label='Real data', density=True)\n",
    "axs[0].hist(B_numtrks_MC[cut_multitrks_DE_MC], 8, alpha=0.5, range=[0.5,8.5], color='r', label='Montecarlo', density=True)\n",
    "\n",
    "axs[1].hist(B_numtrks_D[cut_multitrks_DE_D_up], 8, range=[0.5,8.5], color='k', label='Real data', density=True)\n",
    "axs[1].hist(B_numtrks_MC[cut_multitrks_DE_MC_up], 8, alpha=0.5, range=[0.5,8.5], color='r', label='Montecarlo', density=True)\n",
    "\n",
    "axs[0].set_title('Pico de Double-Escape')\n",
    "axs[1].set_title('Ventana superior al pico de DE')\n",
    "axs[0].set_xlabel('Nº tracks per event')\n",
    "axs[1].set_xlabel('Nº tracks per event')\n",
    "axs[1].set_ylabel('Normalized counts/bin')\n",
    "axs[0].set_ylabel('Normalized counts/bin')\n",
    "axs[0].legend()\n",
    "axs[1].legend()\n",
    "plt.show()\n",
    "\n",
    "print('Número medio de trazas por evento en el pico (Datos)=', np.mean(B_numtrks_D[cut_multitrks_DE_D]))\n",
    "print('Número medio de trazas por evento en el pico (MC)=', np.mean(B_numtrks_MC[cut_multitrks_DE_MC]))\n",
    "print('Número medio de trazas por evento por encima del pico (Datos)=', np.mean(B_numtrks_D[cut_multitrks_DE_D_up]))\n",
    "print('Número medio de trazas por evento por encima del pico (MC)=', np.mean(B_numtrks_MC[cut_multitrks_DE_MC_up]))"
   ]
  },
  {
   "cell_type": "code",
   "execution_count": null,
   "metadata": {},
   "outputs": [],
   "source": []
  },
  {
   "cell_type": "markdown",
   "metadata": {},
   "source": [
    "# Longitud de las trazas"
   ]
  },
  {
   "cell_type": "code",
   "execution_count": 15,
   "metadata": {},
   "outputs": [
    {
     "name": "stderr",
     "output_type": "stream",
     "text": [
      "/home/carlos/anaconda3/lib/python3.7/site-packages/ipykernel_launcher.py:1: RuntimeWarning: invalid value encountered in greater_equal\n",
      "  \"\"\"Entry point for launching an IPython kernel.\n",
      "/home/carlos/anaconda3/lib/python3.7/site-packages/ipykernel_launcher.py:1: RuntimeWarning: invalid value encountered in greater\n",
      "  \"\"\"Entry point for launching an IPython kernel.\n",
      "/home/carlos/anaconda3/lib/python3.7/site-packages/ipykernel_launcher.py:1: RuntimeWarning: invalid value encountered in less\n",
      "  \"\"\"Entry point for launching an IPython kernel.\n",
      "/home/carlos/anaconda3/lib/python3.7/site-packages/ipykernel_launcher.py:4: RuntimeWarning: invalid value encountered in greater_equal\n",
      "  after removing the cwd from sys.path.\n",
      "/home/carlos/anaconda3/lib/python3.7/site-packages/ipykernel_launcher.py:4: RuntimeWarning: invalid value encountered in greater\n",
      "  after removing the cwd from sys.path.\n",
      "/home/carlos/anaconda3/lib/python3.7/site-packages/ipykernel_launcher.py:4: RuntimeWarning: invalid value encountered in less\n",
      "  after removing the cwd from sys.path.\n"
     ]
    },
    {
     "data": {
      "image/png": "[encoded data removed]",
      "text/plain": [
       "<Figure size 1152x360 with 2 Axes>"
      ]
     },
     "metadata": {
      "needs_background": "light"
     },
     "output_type": "display_data"
    },
    {
     "name": "stdout",
     "output_type": "stream",
     "text": [
      "Longitud media de las trazas en el pico (Datos)= 101.48503101219097\n",
      "Longitud media de las trazas en el pico (MC)= 89.89482190963338\n",
      "Longitud media de las trazas por encima del pico (Datos)= 125.96922932423304\n",
      "Longitud media de las trazas por encima del pico (MC)= 107.11340974342974\n"
     ]
    }
   ],
   "source": [
    "cut_multitrks_DE_D = (B_numtrks_D >= 1) & (B_Ec_D_fit > 1.55) & (B_Ec_D_fit < 1.75)\n",
    "cut_multitrks_DE_MC = (B_numtrks_MC >= 1) & (B_Ec_MC > 1.55) & (B_Ec_MC < 1.75)\n",
    "\n",
    "cut_multitrks_DE_D_up = (B_numtrks_D >= 1) & (B_Ec_D_fit > 1.7) & (B_Ec_D_fit < 1.9)\n",
    "cut_multitrks_DE_MC_up = (B_numtrks_MC >= 1) & (B_Ec_MC > 1.7) & (B_Ec_MC < 1.9)\n",
    "\n",
    "fig, axs = plt.subplots(1,2)\n",
    "\n",
    "fig.set_figheight(5.0)\n",
    "fig.set_figwidth(16.0)\n",
    "\n",
    "axs[0].hist(B_trklen_D[cut_multitrks_DE_D], 100, color='k', label='Real data', density=True)\n",
    "axs[0].hist(B_trklen_MC[cut_multitrks_DE_MC],100, alpha=0.5, color='r', label='Montecarlo', density=True)\n",
    "\n",
    "axs[1].hist(B_trklen_D[cut_multitrks_DE_D_up], 100, color='k', label='Real data', density=True)\n",
    "axs[1].hist(B_trklen_MC[cut_multitrks_DE_MC_up], 100, alpha=0.5, color='r', label='Montecarlo', density=True)\n",
    "\n",
    "axs[0].set_title('Pico de Double-Escape')\n",
    "axs[1].set_title('Ventana inferior al pico de DE')\n",
    "axs[0].set_xlabel('Track length (mm)')\n",
    "axs[1].set_xlabel('Track length (mm)')\n",
    "axs[1].set_ylabel('Normalized counts/bin')\n",
    "axs[0].set_ylabel('Normalized counts/bin')\n",
    "axs[0].legend()\n",
    "axs[1].legend()\n",
    "plt.show()\n",
    "\n",
    "print('Longitud media de las trazas en el pico (Datos)=', np.mean(B_trklen_D[cut_multitrks_DE_D]))\n",
    "print('Longitud media de las trazas en el pico (MC)=', np.mean(B_trklen_MC[cut_multitrks_DE_MC]))\n",
    "print('Longitud media de las trazas por encima del pico (Datos)=', np.mean(B_trklen_D[cut_multitrks_DE_D_up]))\n",
    "print('Longitud media de las trazas por encima del pico (MC)=', np.mean(B_trklen_MC[cut_multitrks_DE_MC_up]))\n",
    "\n",
    "\n"
   ]
  },
  {
   "cell_type": "markdown",
   "metadata": {},
   "source": [
    "# Profile: no sé hacer subplots con sns"
   ]
  },
  {
   "cell_type": "code",
   "execution_count": 16,
   "metadata": {
    "scrolled": false
   },
   "outputs": [
    {
     "name": "stderr",
     "output_type": "stream",
     "text": [
      "/home/carlos/anaconda3/lib/python3.7/site-packages/ipykernel_launcher.py:4: RuntimeWarning: invalid value encountered in greater\n",
      "  after removing the cwd from sys.path.\n",
      "/home/carlos/anaconda3/lib/python3.7/site-packages/ipykernel_launcher.py:4: RuntimeWarning: invalid value encountered in less\n",
      "  after removing the cwd from sys.path.\n",
      "/home/carlos/anaconda3/lib/python3.7/site-packages/ipykernel_launcher.py:5: RuntimeWarning: invalid value encountered in greater\n",
      "  \"\"\"\n",
      "/home/carlos/anaconda3/lib/python3.7/site-packages/ipykernel_launcher.py:5: RuntimeWarning: invalid value encountered in less\n",
      "  \"\"\"\n",
      "/home/carlos/anaconda3/lib/python3.7/site-packages/ipykernel_launcher.py:19: RuntimeWarning: invalid value encountered in greater\n",
      "/home/carlos/anaconda3/lib/python3.7/site-packages/ipykernel_launcher.py:19: RuntimeWarning: invalid value encountered in less\n",
      "/home/carlos/anaconda3/lib/python3.7/site-packages/ipykernel_launcher.py:20: RuntimeWarning: invalid value encountered in greater\n",
      "/home/carlos/anaconda3/lib/python3.7/site-packages/ipykernel_launcher.py:20: RuntimeWarning: invalid value encountered in less\n",
      "/home/carlos/anaconda3/lib/python3.7/site-packages/ipykernel_launcher.py:22: RuntimeWarning: invalid value encountered in greater\n",
      "/home/carlos/anaconda3/lib/python3.7/site-packages/ipykernel_launcher.py:22: RuntimeWarning: invalid value encountered in less\n",
      "/home/carlos/anaconda3/lib/python3.7/site-packages/ipykernel_launcher.py:23: RuntimeWarning: invalid value encountered in greater\n",
      "/home/carlos/anaconda3/lib/python3.7/site-packages/ipykernel_launcher.py:23: RuntimeWarning: invalid value encountered in less\n",
      "/home/carlos/anaconda3/lib/python3.7/site-packages/ipykernel_launcher.py:25: RuntimeWarning: invalid value encountered in greater\n",
      "/home/carlos/anaconda3/lib/python3.7/site-packages/ipykernel_launcher.py:25: RuntimeWarning: invalid value encountered in less\n",
      "/home/carlos/anaconda3/lib/python3.7/site-packages/ipykernel_launcher.py:26: RuntimeWarning: invalid value encountered in greater\n",
      "/home/carlos/anaconda3/lib/python3.7/site-packages/ipykernel_launcher.py:26: RuntimeWarning: invalid value encountered in less\n",
      "/home/carlos/anaconda3/lib/python3.7/site-packages/ipykernel_launcher.py:28: RuntimeWarning: invalid value encountered in greater\n",
      "/home/carlos/anaconda3/lib/python3.7/site-packages/ipykernel_launcher.py:28: RuntimeWarning: invalid value encountered in less\n",
      "/home/carlos/anaconda3/lib/python3.7/site-packages/ipykernel_launcher.py:29: RuntimeWarning: invalid value encountered in greater\n",
      "/home/carlos/anaconda3/lib/python3.7/site-packages/ipykernel_launcher.py:29: RuntimeWarning: invalid value encountered in less\n"
     ]
    },
    {
     "data": {
      "text/plain": [
       "<matplotlib.legend.Legend at 0x7fa366ffa490>"
      ]
     },
     "execution_count": 16,
     "metadata": {},
     "output_type": "execute_result"
    },
    {
     "data": {
      "image/png": "[encoded data removed]",
      "text/plain": [
       "<Figure size 576x360 with 1 Axes>"
      ]
     },
     "metadata": {
      "needs_background": "light"
     },
     "output_type": "display_data"
    },
    {
     "data": {
      "image/png": "[encoded data removed]",
      "text/plain": [
       "<Figure size 576x360 with 1 Axes>"
      ]
     },
     "metadata": {
      "needs_background": "light"
     },
     "output_type": "display_data"
    },
    {
     "data": {
      "image/png": "[encoded data removed]",
      "text/plain": [
       "<Figure size 576x360 with 1 Axes>"
      ]
     },
     "metadata": {
      "needs_background": "light"
     },
     "output_type": "display_data"
    },
    {
     "data": {
      "image/png": "[encoded data removed]",
      "text/plain": [
       "<Figure size 576x360 with 1 Axes>"
      ]
     },
     "metadata": {
      "needs_background": "light"
     },
     "output_type": "display_data"
    }
   ],
   "source": [
    "cwide_zmin = 50; cwide_zmax = 500\n",
    "cwide_rmax = 180\n",
    "\n",
    "C_basic_D       = (B_Ec_D > 0) & (B_zavg_D < 580)\n",
    "C_wide_D        = C_basic_D & (B_zmin_D > cwide_zmin) & (B_zmax_D < cwide_zmax) & (B_rmax_D < cwide_rmax) & (B_nS1_D == 1)\n",
    "\n",
    "C_basic_MC      = (B_Ec_MC > 0) & (B_zavg_MC < 580)\n",
    "C_wide_MC       = C_basic_MC & (B_zmin_MC > cwide_zmin) & (B_zmax_MC < cwide_zmax) & (B_rmax_MC < cwide_rmax) & (B_nS1_MC == 1)\n",
    "\n",
    "E_DE_min=1.55\n",
    "E_DE_max=1.75\n",
    "\n",
    "E_DE_min_low=1.7\n",
    "E_DE_max_low=1.9\n",
    "\n",
    "B_Ec_evt_D=(B_Ec_evt_D-a)/b\n",
    "B_Ec_evt_MC=(B_Ec_evt_MC-a)/b\n",
    "\n",
    "cuts_Evstrklen_1_D = C_wide_D & (B_numtrks_D == 1) & (B_Ec_evt_D > E_DE_min) & (B_Ec_evt_D < E_DE_max) & (B_nS2_D == 1)\n",
    "cuts_Evstrklen_else_D = C_wide_D & (B_numtrks_D > 1) & (B_Ec_evt_D > E_DE_min) & (B_Ec_evt_D < E_DE_max) & (B_nS2_D == 1)\n",
    "\n",
    "cuts_Evstrklen_1_MC = C_wide_MC & (B_numtrks_MC == 1) & (B_Ec_evt_MC > E_DE_min) & (B_Ec_evt_MC < E_DE_max) & (B_nS2_MC == 1)\n",
    "cuts_Evstrklen_else_MC = C_wide_MC & (B_numtrks_MC > 1) & (B_Ec_evt_MC > E_DE_min) & (B_Ec_evt_MC < E_DE_max) & (B_nS2_MC == 1)\n",
    "\n",
    "cuts_Evstrklen_1_D_low = C_wide_D & (B_numtrks_D == 1) & (B_Ec_evt_D > E_DE_min_low) & (B_Ec_evt_D < E_DE_max_low) & (B_nS2_D == 1)\n",
    "cuts_Evstrklen_else_D_low = C_wide_D & (B_numtrks_D > 1) & (B_Ec_evt_D > E_DE_min_low) & (B_Ec_evt_D < E_DE_max_low) & (B_nS2_D == 1)\n",
    "\n",
    "cuts_Evstrklen_1_MC_low = C_wide_MC & (B_numtrks_MC == 1) & (B_Ec_evt_MC > E_DE_min_low) & (B_Ec_evt_MC < E_DE_max_low) & (B_nS2_MC == 1)\n",
    "cuts_Evstrklen_else_MC_low = C_wide_MC & (B_numtrks_MC > 1) & (B_Ec_evt_MC > E_DE_min_low) & (B_Ec_evt_MC < E_DE_max_low) & (B_nS2_MC == 1)\n",
    "\n",
    "\n",
    "fig=plt.figure(1)\n",
    "\n",
    "fig.set_figheight(5.0)\n",
    "fig.set_figwidth(8.0)\n",
    "\n",
    "sns.regplot(x=B_Ec_evt_D[cuts_Evstrklen_1_D], y=B_trklen_D[cuts_Evstrklen_1_D], x_bins=np.linspace(E_DE_min,E_DE_max,40), fit_reg=None, label='1 track' , color='k')\n",
    "sns.regplot(x=B_Ec_evt_D[cuts_Evstrklen_else_D], y=B_trklen_D[cuts_Evstrklen_else_D], x_bins=np.linspace(E_DE_min,E_DE_max,40), fit_reg=None, label='Multiple tracks', color='r')\n",
    "\n",
    "plt.xlabel(\"Event energy (MeV)\")\n",
    "plt.ylabel(\"Track length (mm)\")\n",
    "plt.suptitle('Track length for Data on DE peak',fontsize=20)\n",
    "plt.legend()\n",
    "\n",
    "\n",
    "fig=plt.figure(2)\n",
    "\n",
    "fig.set_figheight(5.0)\n",
    "fig.set_figwidth(8.0)\n",
    "\n",
    "sns.regplot(x=B_Ec_MC[cuts_Evstrklen_1_MC], y=B_trklen_MC[cuts_Evstrklen_1_MC], x_bins=np.linspace(E_DE_min,E_DE_max,40), fit_reg=None, label='1 track', color='k')\n",
    "sns.regplot(x=B_Ec_MC[cuts_Evstrklen_else_MC], y=B_trklen_MC[cuts_Evstrklen_else_MC], x_bins=np.linspace(E_DE_min,E_DE_max,40), fit_reg=None, label='Multiple tracks', color='r')\n",
    "\n",
    "plt.xlabel(\"Event energy (MeV)\")\n",
    "plt.ylabel(\"Track length (mm)\")\n",
    "plt.suptitle('Track length for MC on DE peak',fontsize=20)\n",
    "plt.legend()\n",
    "\n",
    "\n",
    "fig=plt.figure(3)\n",
    "\n",
    "fig.set_figheight(5.0)\n",
    "fig.set_figwidth(8.0)\n",
    "\n",
    "sns.regplot(x=B_Ec_evt_D[cuts_Evstrklen_1_D_low], y=B_trklen_D[cuts_Evstrklen_1_D_low], x_bins=np.linspace(E_DE_min,E_DE_max,40), fit_reg=None, label='1 track' , color='k')\n",
    "sns.regplot(x=B_Ec_evt_D[cuts_Evstrklen_else_D_low], y=B_trklen_D[cuts_Evstrklen_else_D_low], x_bins=np.linspace(E_DE_min,E_DE_max,40), fit_reg=None, label='Multiple tracks', color='r')\n",
    "\n",
    "plt.xlabel(\"Event energy (MeV)\")\n",
    "plt.ylabel(\"Track length (mm)\")\n",
    "plt.suptitle('Track length for Data on upper DE peak region',fontsize=20)\n",
    "plt.legend()\n",
    "\n",
    "\n",
    "fig=plt.figure(4)\n",
    "\n",
    "fig.set_figheight(5.0)\n",
    "fig.set_figwidth(8.0)\n",
    "\n",
    "sns.regplot(x=B_Ec_MC[cuts_Evstrklen_1_MC_low], y=B_trklen_MC[cuts_Evstrklen_1_MC_low], x_bins=np.linspace(E_DE_min_low,E_DE_max_low,40), fit_reg=None, label='1 track', color='k')\n",
    "sns.regplot(x=B_Ec_MC[cuts_Evstrklen_else_MC_low], y=B_trklen_MC[cuts_Evstrklen_else_MC_low], x_bins=np.linspace(E_DE_min_low,E_DE_max_low,40), fit_reg=None, label='Multiple tracks', color='r')\n",
    "\n",
    "\n",
    "\n",
    "plt.xlabel(\"Event energy (MeV)\")\n",
    "plt.ylabel(\"Track length (mm)\")\n",
    "plt.suptitle('Track length for MC on upper DE peak region',fontsize=20)\n",
    "plt.legend()"
   ]
  },
  {
   "cell_type": "markdown",
   "metadata": {},
   "source": [
    "# Longitud de la traza más larga"
   ]
  },
  {
   "cell_type": "code",
   "execution_count": 17,
   "metadata": {
    "scrolled": false
   },
   "outputs": [
    {
     "name": "stderr",
     "output_type": "stream",
     "text": [
      "/home/carlos/anaconda3/lib/python3.7/site-packages/ipykernel_launcher.py:1: RuntimeWarning: invalid value encountered in greater_equal\n",
      "  \"\"\"Entry point for launching an IPython kernel.\n",
      "/home/carlos/anaconda3/lib/python3.7/site-packages/ipykernel_launcher.py:1: RuntimeWarning: invalid value encountered in greater\n",
      "  \"\"\"Entry point for launching an IPython kernel.\n",
      "/home/carlos/anaconda3/lib/python3.7/site-packages/ipykernel_launcher.py:1: RuntimeWarning: invalid value encountered in less\n",
      "  \"\"\"Entry point for launching an IPython kernel.\n",
      "/home/carlos/anaconda3/lib/python3.7/site-packages/ipykernel_launcher.py:2: RuntimeWarning: invalid value encountered in greater_equal\n",
      "  \n",
      "/home/carlos/anaconda3/lib/python3.7/site-packages/ipykernel_launcher.py:2: RuntimeWarning: invalid value encountered in greater\n",
      "  \n",
      "/home/carlos/anaconda3/lib/python3.7/site-packages/ipykernel_launcher.py:2: RuntimeWarning: invalid value encountered in less\n",
      "  \n",
      "/home/carlos/anaconda3/lib/python3.7/site-packages/ipykernel_launcher.py:4: RuntimeWarning: invalid value encountered in greater_equal\n",
      "  after removing the cwd from sys.path.\n",
      "/home/carlos/anaconda3/lib/python3.7/site-packages/ipykernel_launcher.py:4: RuntimeWarning: invalid value encountered in greater\n",
      "  after removing the cwd from sys.path.\n",
      "/home/carlos/anaconda3/lib/python3.7/site-packages/ipykernel_launcher.py:4: RuntimeWarning: invalid value encountered in less\n",
      "  after removing the cwd from sys.path.\n",
      "/home/carlos/anaconda3/lib/python3.7/site-packages/ipykernel_launcher.py:5: RuntimeWarning: invalid value encountered in greater_equal\n",
      "  \"\"\"\n",
      "/home/carlos/anaconda3/lib/python3.7/site-packages/ipykernel_launcher.py:5: RuntimeWarning: invalid value encountered in greater\n",
      "  \"\"\"\n",
      "/home/carlos/anaconda3/lib/python3.7/site-packages/ipykernel_launcher.py:5: RuntimeWarning: invalid value encountered in less\n",
      "  \"\"\"\n"
     ]
    },
    {
     "data": {
      "image/png": "[encoded data removed]",
      "text/plain": [
       "<Figure size 1152x360 with 2 Axes>"
      ]
     },
     "metadata": {
      "needs_background": "light"
     },
     "output_type": "display_data"
    },
    {
     "name": "stdout",
     "output_type": "stream",
     "text": [
      "Longitud media de la traza más larga en el pico (Datos)= 100.71358378000936\n",
      "Longitud media de la traza más larga en el pico (MC)= 100.68821118481061\n",
      "Longitud media de la traza más larga por encima del pico (Datos)= 125.2032855460046\n",
      "Longitud media de la traza más larga por encima del pico (MC)= 117.01102422625657\n"
     ]
    }
   ],
   "source": [
    "cut_multitrks_DE_D = (A_numtrks_D >= 1) & (A_Ec_D_fit > 1.55) & (A_Ec_D_fit < 1.75)\n",
    "cut_multitrks_DE_MC = (A_numtrks_MC >= 1) & (A_Ec_MC > 1.55) & (A_Ec_MC < 1.75)\n",
    "\n",
    "cut_multitrks_DE_D_low = (A_numtrks_D >= 1) & (A_Ec_D_fit > 1.7) & (A_Ec_D_fit < 1.9)\n",
    "cut_multitrks_DE_MC_low = (A_numtrks_MC >= 1) & (A_Ec_MC > 1.7) & (A_Ec_MC < 1.9)\n",
    "\n",
    "fig, axs = plt.subplots(1,2)\n",
    "\n",
    "fig.set_figheight(5.0)\n",
    "fig.set_figwidth(16.0)\n",
    "\n",
    "axs[0].hist(A_maxtrklen_D[cut_multitrks_DE_D], 100, color='k', label='Real data', density=True)\n",
    "axs[0].hist(A_maxtrklen_MC[cut_multitrks_DE_MC],100, alpha=0.5, color='r', label='Montecarlo', density=True)\n",
    "\n",
    "axs[1].hist(A_maxtrklen_D[cut_multitrks_DE_D_low], 100, color='k', label='Real data', density=True)\n",
    "axs[1].hist(A_maxtrklen_MC[cut_multitrks_DE_MC_low], 100, alpha=0.5, color='r', label='Montecarlo', density=True)\n",
    "\n",
    "axs[0].set_title('Pico de Double-Escape')\n",
    "axs[1].set_title('Ventana superior al pico de DE')\n",
    "axs[0].set_xlabel('Track length (mm)')\n",
    "axs[1].set_xlabel('Track length (mm)')\n",
    "axs[1].set_ylabel('Normalized counts/bin')\n",
    "axs[0].set_ylabel('Normalized counts/bin')\n",
    "axs[0].legend()\n",
    "axs[1].legend()\n",
    "plt.show()\n",
    "\n",
    "print('Longitud media de la traza más larga en el pico (Datos)=', np.mean(A_maxtrklen_D[cut_multitrks_DE_D]))\n",
    "print('Longitud media de la traza más larga en el pico (MC)=', np.mean(A_maxtrklen_MC[cut_multitrks_DE_MC]))\n",
    "print('Longitud media de la traza más larga por encima del pico (Datos)=', np.mean(A_maxtrklen_D[cut_multitrks_DE_D_low]))\n",
    "print('Longitud media de la traza más larga por encima del pico (MC)=', np.mean(A_maxtrklen_MC[cut_multitrks_DE_MC_low]))\n",
    "\n"
   ]
  },
  {
   "cell_type": "markdown",
   "metadata": {},
   "source": [
    "# Nº S2"
   ]
  },
  {
   "cell_type": "code",
   "execution_count": 18,
   "metadata": {},
   "outputs": [
    {
     "name": "stderr",
     "output_type": "stream",
     "text": [
      "/home/carlos/anaconda3/lib/python3.7/site-packages/ipykernel_launcher.py:1: RuntimeWarning: invalid value encountered in greater_equal\n",
      "  \"\"\"Entry point for launching an IPython kernel.\n",
      "/home/carlos/anaconda3/lib/python3.7/site-packages/ipykernel_launcher.py:1: RuntimeWarning: invalid value encountered in greater\n",
      "  \"\"\"Entry point for launching an IPython kernel.\n",
      "/home/carlos/anaconda3/lib/python3.7/site-packages/ipykernel_launcher.py:1: RuntimeWarning: invalid value encountered in less\n",
      "  \"\"\"Entry point for launching an IPython kernel.\n",
      "/home/carlos/anaconda3/lib/python3.7/site-packages/ipykernel_launcher.py:4: RuntimeWarning: invalid value encountered in greater_equal\n",
      "  after removing the cwd from sys.path.\n",
      "/home/carlos/anaconda3/lib/python3.7/site-packages/ipykernel_launcher.py:4: RuntimeWarning: invalid value encountered in greater\n",
      "  after removing the cwd from sys.path.\n",
      "/home/carlos/anaconda3/lib/python3.7/site-packages/ipykernel_launcher.py:4: RuntimeWarning: invalid value encountered in less\n",
      "  after removing the cwd from sys.path.\n"
     ]
    },
    {
     "data": {
      "image/png": "[encoded data removed]",
      "text/plain": [
       "<Figure size 1152x360 with 2 Axes>"
      ]
     },
     "metadata": {
      "needs_background": "light"
     },
     "output_type": "display_data"
    },
    {
     "name": "stdout",
     "output_type": "stream",
     "text": [
      "Número medio de S2 por evento en el pico (Datos)= 1.5942608063930257\n",
      "Número medio de S2 por evento en el pico (MC)= 1.674522571612735\n",
      "Número medio de S2 por evento por encima del pico (Datos)= 1.5798403193612773\n",
      "Número medio de S2 por evento por encima del pico (MC)= 1.5634991408747851\n"
     ]
    }
   ],
   "source": [
    "cut_multitrks_DE_D = (B_numtrks_D >= 1) & (B_Ec_D_fit > 1.55) & (B_Ec_D_fit < 1.75)\n",
    "cut_multitrks_DE_MC = (B_numtrks_MC >= 1) & (B_Ec_MC > 1.55) & (B_Ec_MC < 1.75)\n",
    "\n",
    "cut_multitrks_DE_D_low = (B_numtrks_D >= 1) & (B_Ec_D_fit > 1.7) & (B_Ec_D_fit < 1.9)\n",
    "cut_multitrks_DE_MC_low = (B_numtrks_MC >= 1) & (B_Ec_MC > 1.7) & (B_Ec_MC < 1.9)\n",
    "\n",
    "\n",
    "fig, axs = plt.subplots(1,2)\n",
    "\n",
    "fig.set_figheight(5.0)\n",
    "fig.set_figwidth(16.0)\n",
    "\n",
    "\n",
    "axs[0].hist(B_nS2_D[cut_multitrks_DE_D], 10, range=[0.5,10.5], color='k', label='Real data', density=True)\n",
    "axs[0].hist(B_nS2_MC[cut_multitrks_DE_MC], 10, alpha=0.5, range=[0.5,10.5], color='r', label='Montecarlo', density=True)\n",
    "\n",
    "axs[1].hist(B_nS2_D[cut_multitrks_DE_D_low], 10, range=[0.5,10.5], color='k', label='Real data', density=True)\n",
    "axs[1].hist(B_nS2_MC[cut_multitrks_DE_MC_low], 10, alpha=0.5, range=[0.5,10.5], color='r', label='Montecarlo', density=True)\n",
    "\n",
    "plt.xlabel('Nº  S2')\n",
    "plt.ylabel('Normalized counts / bin')\n",
    "plt.legend() \n",
    "\n",
    "axs[0].set_title('Pico de Double-Escape')\n",
    "axs[1].set_title('Ventana superior al pico de DE')\n",
    "axs[0].set_xlabel('Nº  S2')\n",
    "axs[1].set_xlabel('Nº  S2')\n",
    "axs[1].set_ylabel('Normalized counts/bin')\n",
    "axs[0].set_ylabel('Normalized counts/bin')\n",
    "axs[0].legend()\n",
    "axs[1].legend()\n",
    "plt.show()\n",
    "\n",
    "print('Número medio de S2 por evento en el pico (Datos)=', np.mean(B_nS2_D[cut_multitrks_DE_D]))\n",
    "print('Número medio de S2 por evento en el pico (MC)=', np.mean(B_nS2_MC[cut_multitrks_DE_MC]))\n",
    "print('Número medio de S2 por evento por encima del pico (Datos)=', np.mean(B_nS2_D[cut_multitrks_DE_D_low]))\n",
    "print('Número medio de S2 por evento por encima del pico (MC)=', np.mean(B_nS2_MC[cut_multitrks_DE_MC_low]))"
   ]
  },
  {
   "cell_type": "code",
   "execution_count": 8,
   "metadata": {},
   "outputs": [
    {
     "data": {
      "text/plain": [
       "596443"
      ]
     },
     "execution_count": 8,
     "metadata": {},
     "output_type": "execute_result"
    }
   ],
   "source": [
    "len(A_Ec_D)"
   ]
  },
  {
   "cell_type": "code",
   "execution_count": 9,
   "metadata": {},
   "outputs": [
    {
     "data": {
      "text/plain": [
       "596443"
      ]
     },
     "execution_count": 9,
     "metadata": {},
     "output_type": "execute_result"
    }
   ],
   "source": [
    "len(A_Ec_evt_D)"
   ]
  },
  {
   "cell_type": "code",
   "execution_count": null,
   "metadata": {},
   "outputs": [],
   "source": []
  },
  {
   "cell_type": "code",
   "execution_count": null,
   "metadata": {},
   "outputs": [],
   "source": []
  },
  {
   "cell_type": "code",
   "execution_count": null,
   "metadata": {
    "scrolled": false
   },
   "outputs": [],
   "source": [
    "\n"
   ]
  },
  {
   "cell_type": "code",
   "execution_count": null,
   "metadata": {},
   "outputs": [],
   "source": []
  },
  {
   "cell_type": "code",
   "execution_count": null,
   "metadata": {},
   "outputs": [],
   "source": []
  },
  {
   "cell_type": "code",
   "execution_count": null,
   "metadata": {
    "scrolled": false
   },
   "outputs": [],
   "source": []
  },
  {
   "cell_type": "code",
   "execution_count": null,
   "metadata": {},
   "outputs": [],
   "source": []
  },
  {
   "cell_type": "code",
   "execution_count": null,
   "metadata": {},
   "outputs": [],
   "source": []
  },
  {
   "cell_type": "code",
   "execution_count": null,
   "metadata": {},
   "outputs": [],
   "source": []
  },
  {
   "cell_type": "code",
   "execution_count": null,
   "metadata": {},
   "outputs": [],
   "source": []
  },
  {
   "cell_type": "code",
   "execution_count": null,
   "metadata": {},
   "outputs": [],
   "source": []
  },
  {
   "cell_type": "code",
   "execution_count": null,
   "metadata": {},
   "outputs": [],
   "source": []
  },
  {
   "cell_type": "code",
   "execution_count": null,
   "metadata": {},
   "outputs": [],
   "source": []
  },
  {
   "cell_type": "markdown",
   "metadata": {},
   "source": []
  },
  {
   "cell_type": "code",
   "execution_count": null,
   "metadata": {
    "scrolled": false
   },
   "outputs": [],
   "source": [
    " "
   ]
  },
  {
   "cell_type": "markdown",
   "metadata": {},
   "source": []
  },
  {
   "cell_type": "code",
   "execution_count": 40,
   "metadata": {},
   "outputs": [],
   "source": []
  },
  {
   "cell_type": "code",
   "execution_count": null,
   "metadata": {},
   "outputs": [],
   "source": []
  },
  {
   "cell_type": "code",
   "execution_count": null,
   "metadata": {},
   "outputs": [],
   "source": []
  },
  {
   "cell_type": "code",
   "execution_count": null,
   "metadata": {},
   "outputs": [],
   "source": []
  },
  {
   "cell_type": "code",
   "execution_count": null,
   "metadata": {},
   "outputs": [],
   "source": []
  },
  {
   "cell_type": "markdown",
   "metadata": {},
   "source": [
    "\n"
   ]
  },
  {
   "cell_type": "code",
   "execution_count": null,
   "metadata": {},
   "outputs": [],
   "source": []
  },
  {
   "cell_type": "code",
   "execution_count": null,
   "metadata": {},
   "outputs": [],
   "source": []
  },
  {
   "cell_type": "code",
   "execution_count": null,
   "metadata": {},
   "outputs": [],
   "source": []
  },
  {
   "cell_type": "markdown",
   "metadata": {},
   "source": []
  },
  {
   "cell_type": "code",
   "execution_count": null,
   "metadata": {},
   "outputs": [],
   "source": []
  },
  {
   "cell_type": "code",
   "execution_count": null,
   "metadata": {},
   "outputs": [],
   "source": [
    "\n"
   ]
  },
  {
   "cell_type": "code",
   "execution_count": null,
   "metadata": {},
   "outputs": [],
   "source": []
  },
  {
   "cell_type": "code",
   "execution_count": null,
   "metadata": {},
   "outputs": [],
   "source": []
  },
  {
   "cell_type": "code",
   "execution_count": null,
   "metadata": {},
   "outputs": [],
   "source": []
  },
  {
   "cell_type": "code",
   "execution_count": null,
   "metadata": {
    "scrolled": true
   },
   "outputs": [],
   "source": []
  },
  {
   "cell_type": "raw",
   "metadata": {},
   "source": []
  },
  {
   "cell_type": "code",
   "execution_count": null,
   "metadata": {},
   "outputs": [],
   "source": []
  },
  {
   "cell_type": "code",
   "execution_count": null,
   "metadata": {},
   "outputs": [],
   "source": []
  },
  {
   "cell_type": "code",
   "execution_count": null,
   "metadata": {},
   "outputs": [],
   "source": []
  },
  {
   "cell_type": "code",
   "execution_count": null,
   "metadata": {},
   "outputs": [],
   "source": []
  },
  {
   "cell_type": "code",
   "execution_count": 67,
   "metadata": {},
   "outputs": [],
   "source": []
  },
  {
   "cell_type": "code",
   "execution_count": null,
   "metadata": {},
   "outputs": [],
   "source": []
  },
  {
   "cell_type": "code",
   "execution_count": null,
   "metadata": {},
   "outputs": [],
   "source": []
  },
  {
   "cell_type": "code",
   "execution_count": null,
   "metadata": {},
   "outputs": [],
   "source": []
  },
  {
   "cell_type": "code",
   "execution_count": null,
   "metadata": {},
   "outputs": [],
   "source": [
    "\n"
   ]
  },
  {
   "cell_type": "code",
   "execution_count": null,
   "metadata": {},
   "outputs": [],
   "source": []
  }
 ],
 "metadata": {
  "kernelspec": {
   "display_name": "Python 3",
   "language": "python",
   "name": "python3"
  },
  "language_info": {
   "codemirror_mode": {
    "name": "ipython",
    "version": 3
   },
   "file_extension": ".py",
   "mimetype": "text/x-python",
   "name": "python",
   "nbconvert_exporter": "python",
   "pygments_lexer": "ipython3",
   "version": "3.7.4"
  }
 },
 "nbformat": 4,
 "nbformat_minor": 2
}
